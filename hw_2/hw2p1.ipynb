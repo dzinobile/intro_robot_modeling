{
 "cells": [
  {
   "cell_type": "code",
   "execution_count": 4,
   "id": "9184be53-1694-4301-83e0-0089e622c3dd",
   "metadata": {},
   "outputs": [],
   "source": [
    "import sympy as sp\n"
   ]
  },
  {
   "cell_type": "code",
   "execution_count": 13,
   "id": "60944837-0c76-49e8-9cab-5336c6b0e903",
   "metadata": {},
   "outputs": [
    {
     "data": {
      "text/latex": [
       "$\\displaystyle \\left[\\begin{matrix}\\cos{\\left(\\theta_{1} \\right)} & 0 & \\sin{\\left(\\theta_{1} \\right)} & 0\\\\\\sin{\\left(\\theta_{1} \\right)} & 0 & - \\cos{\\left(\\theta_{1} \\right)} & 0\\\\0 & 1 & 0 & 183.3\\\\0 & 0 & 0 & 1\\end{matrix}\\right]$"
      ],
      "text/plain": [
       "Matrix([\n",
       "[cos(theta_1), 0,  sin(theta_1),     0],\n",
       "[sin(theta_1), 0, -cos(theta_1),     0],\n",
       "[           0, 1,             0, 183.3],\n",
       "[           0, 0,             0,     1]])"
      ]
     },
     "execution_count": 13,
     "metadata": {},
     "output_type": "execute_result"
    }
   ],
   "source": [
    "t1 = sp.Symbol('theta_1')\n",
    "alf1 = sp.pi/2\n",
    "a11 = sp.Matrix([[1,0,0,0],[0,1,0,0],[0,0,1,183.3],[0,0,0,1]])\n",
    "a12 = sp.Matrix([[sp.cos(t1),-sp.sin(t1),0,0],[sp.sin(t1), sp.cos(t1), 0,0],[0,0,1,0],[0,0,0,1]])\n",
    "a13 = sp.Matrix([[1,0,0,0],[0,sp.cos(alf1), -sp.sin(alf1), 0],[0, sp.sin(alf1), sp.cos(alf1), 0],[0,0,0,1]])\n",
    "a1 = a11*(a12*a13)\n",
    "a1"
   ]
  },
  {
   "cell_type": "code",
   "execution_count": 15,
   "id": "8f431bcf-c1c0-42b5-ac89-1b09fceafa2f",
   "metadata": {},
   "outputs": [
    {
     "data": {
      "text/latex": [
       "$\\displaystyle \\left[\\begin{matrix}\\cos{\\left(\\theta_{2} \\right)} & - \\sin{\\left(\\theta_{2} \\right)} & 0 & -737.3\\\\\\sin{\\left(\\theta_{2} \\right)} & \\cos{\\left(\\theta_{2} \\right)} & 0 & 0\\\\0 & 0 & 1 & 0\\\\0 & 0 & 0 & 1\\end{matrix}\\right]$"
      ],
      "text/plain": [
       "Matrix([\n",
       "[cos(theta_2), -sin(theta_2), 0, -737.3],\n",
       "[sin(theta_2),  cos(theta_2), 0,      0],\n",
       "[           0,             0, 1,      0],\n",
       "[           0,             0, 0,      1]])"
      ]
     },
     "execution_count": 15,
     "metadata": {},
     "output_type": "execute_result"
    }
   ],
   "source": [
    "t2 = sp.Symbol('theta_2')\n",
    "a21 = sp.Matrix([[1,0,0,-737.3],[0,1,0,0],[0,0,1,0],[0,0,0,1]])\n",
    "a22 = sp.Matrix([[sp.cos(t2), -sp.sin(t2), 0,0],[sp.sin(t2), sp.cos(t2),0,0],[0,0,1,0],[0,0,0,1]])\n",
    "a2 = a21*a22\n",
    "a2"
   ]
  },
  {
   "cell_type": "code",
   "execution_count": 16,
   "id": "9e17196b-8221-446e-bcdc-970c4087536a",
   "metadata": {},
   "outputs": [
    {
     "data": {
      "text/latex": [
       "$\\displaystyle \\left[\\begin{matrix}\\cos{\\left(\\theta_{4} \\right)} & 0 & - \\sin{\\left(\\theta_{4} \\right)} & 0\\\\\\sin{\\left(\\theta_{4} \\right)} & 0 & \\cos{\\left(\\theta_{4} \\right)} & 0\\\\0 & -1 & 0 & 95.5\\\\0 & 0 & 0 & 1\\end{matrix}\\right]$"
      ],
      "text/plain": [
       "Matrix([\n",
       "[cos(theta_4),  0, -sin(theta_4),    0],\n",
       "[sin(theta_4),  0,  cos(theta_4),    0],\n",
       "[           0, -1,             0, 95.5],\n",
       "[           0,  0,             0,    1]])"
      ]
     },
     "execution_count": 16,
     "metadata": {},
     "output_type": "execute_result"
    }
   ],
   "source": [
    "t4 = sp.Symbol('theta_4')\n",
    "alf4 = -sp.pi/2\n",
    "a41 = sp.Matrix([[1,0,0,0],[0,1,0,0],[0,0,1,95.5],[0,0,0,1]])\n",
    "a42 = sp.Matrix([[sp.cos(t4),-sp.sin(t4),0,0],[sp.sin(t4), sp.cos(t4), 0,0],[0,0,1,0],[0,0,0,1]])\n",
    "a43 = sp.Matrix([[1,0,0,0],[0,sp.cos(alf4), -sp.sin(alf4), 0],[0, sp.sin(alf4), sp.cos(alf4), 0],[0,0,0,1]])\n",
    "a4 = a41*(a42*a43)\n",
    "a4"
   ]
  },
  {
   "cell_type": "code",
   "execution_count": 17,
   "id": "92f6faab-1e26-4c04-adcb-60f430abc83d",
   "metadata": {},
   "outputs": [
    {
     "data": {
      "text/latex": [
       "$\\displaystyle \\left[\\begin{matrix}\\cos{\\left(\\theta_{3} \\right)} & - \\sin{\\left(\\theta_{3} \\right)} & 0 & -387.8\\\\\\sin{\\left(\\theta_{3} \\right)} & \\cos{\\left(\\theta_{3} \\right)} & 0 & 0\\\\0 & 0 & 1 & 0\\\\0 & 0 & 0 & 1\\end{matrix}\\right]$"
      ],
      "text/plain": [
       "Matrix([\n",
       "[cos(theta_3), -sin(theta_3), 0, -387.8],\n",
       "[sin(theta_3),  cos(theta_3), 0,      0],\n",
       "[           0,             0, 1,      0],\n",
       "[           0,             0, 0,      1]])"
      ]
     },
     "execution_count": 17,
     "metadata": {},
     "output_type": "execute_result"
    }
   ],
   "source": [
    "t3 = sp.Symbol('theta_3')\n",
    "s3 = sp.sin(t3)\n",
    "c3 = sp.cos(t3)\n",
    "a3 = sp.Matrix([[c3, -s3, 0, -387.8],[s3, c3, 0,0],[0,0,1,0],[0,0,0,1]])\n",
    "a3"
   ]
  },
  {
   "cell_type": "code",
   "execution_count": 19,
   "id": "9b5f57cc-7ec1-4d51-a53a-5a7e67efc9cf",
   "metadata": {},
   "outputs": [
    {
     "data": {
      "text/latex": [
       "$\\displaystyle \\left[\\begin{matrix}\\cos{\\left(\\theta_{5} \\right)} & 0 & \\sin{\\left(\\theta_{5} \\right)} & 0\\\\\\sin{\\left(\\theta_{5} \\right)} & 0 & - \\cos{\\left(\\theta_{5} \\right)} & 0\\\\0 & 1 & 0 & 115.5\\\\0 & 0 & 0 & 1\\end{matrix}\\right]$"
      ],
      "text/plain": [
       "Matrix([\n",
       "[cos(theta_5), 0,  sin(theta_5),     0],\n",
       "[sin(theta_5), 0, -cos(theta_5),     0],\n",
       "[           0, 1,             0, 115.5],\n",
       "[           0, 0,             0,     1]])"
      ]
     },
     "execution_count": 19,
     "metadata": {},
     "output_type": "execute_result"
    }
   ],
   "source": [
    "t5 = sp.Symbol('theta_5')\n",
    "s5 = sp.sin(t5)\n",
    "c5 = sp.cos(t5)\n",
    "a5 = sp.Matrix([[c5,0,s5,0],[s5,0,-c5,0],[0,1,0,115.5],[0,0,0,1]])\n",
    "a5"
   ]
  },
  {
   "cell_type": "code",
   "execution_count": 20,
   "id": "aa5f09c7-f87b-4776-82b4-ad332f80952f",
   "metadata": {},
   "outputs": [
    {
     "data": {
      "text/latex": [
       "$\\displaystyle \\left[\\begin{matrix}\\cos{\\left(\\theta_{6} \\right)} & - \\sin{\\left(\\theta_{6} \\right)} & 0 & 0\\\\\\sin{\\left(\\theta_{6} \\right)} & \\cos{\\left(\\theta_{6} \\right)} & 0 & 0\\\\0 & 0 & 1 & 0\\\\0 & 0 & 0 & 1\\end{matrix}\\right]$"
      ],
      "text/plain": [
       "Matrix([\n",
       "[cos(theta_6), -sin(theta_6), 0, 0],\n",
       "[sin(theta_6),  cos(theta_6), 0, 0],\n",
       "[           0,             0, 1, 0],\n",
       "[           0,             0, 0, 1]])"
      ]
     },
     "execution_count": 20,
     "metadata": {},
     "output_type": "execute_result"
    }
   ],
   "source": [
    "t6 = sp.Symbol('theta_6')\n",
    "s6 = sp.sin(t6)\n",
    "c6 = sp.cos(t6)\n",
    "a6 = sp.Matrix([[c6,-s6,0,0],[s6,c6,0,0],[0,0,1,0],[0,0,0,1]])\n",
    "a6"
   ]
  },
  {
   "cell_type": "code",
   "execution_count": 22,
   "id": "96fe3f0d-ef37-4fc9-b367-04bf471b18d0",
   "metadata": {},
   "outputs": [
    {
     "data": {
      "text/latex": [
       "$\\displaystyle \\left[\\begin{matrix}- \\left(\\sin{\\left(\\theta_{1} \\right)} \\sin{\\left(\\theta_{5} \\right)} - \\cos{\\left(\\theta_{1} \\right)} \\cos{\\left(\\theta_{5} \\right)} \\cos{\\left(\\theta_{2} + \\theta_{3} + \\theta_{4} \\right)}\\right) \\cos{\\left(\\theta_{6} \\right)} - \\sin{\\left(\\theta_{6} \\right)} \\sin{\\left(\\theta_{2} + \\theta_{3} + \\theta_{4} \\right)} \\cos{\\left(\\theta_{1} \\right)} & \\left(\\sin{\\left(\\theta_{1} \\right)} \\sin{\\left(\\theta_{5} \\right)} - \\cos{\\left(\\theta_{1} \\right)} \\cos{\\left(\\theta_{5} \\right)} \\cos{\\left(\\theta_{2} + \\theta_{3} + \\theta_{4} \\right)}\\right) \\sin{\\left(\\theta_{6} \\right)} - \\sin{\\left(\\theta_{2} + \\theta_{3} + \\theta_{4} \\right)} \\cos{\\left(\\theta_{1} \\right)} \\cos{\\left(\\theta_{6} \\right)} & \\sin{\\left(\\theta_{1} \\right)} \\cos{\\left(\\theta_{5} \\right)} + \\sin{\\left(\\theta_{5} \\right)} \\cos{\\left(\\theta_{1} \\right)} \\cos{\\left(\\theta_{2} + \\theta_{3} + \\theta_{4} \\right)} & 95.5 \\sin{\\left(\\theta_{1} \\right)} - 115.5 \\sin{\\left(\\theta_{2} + \\theta_{3} + \\theta_{4} \\right)} \\cos{\\left(\\theta_{1} \\right)} - 387.8 \\cos{\\left(\\theta_{1} \\right)} \\cos{\\left(\\theta_{2} \\right)} - 737.3 \\cos{\\left(\\theta_{1} \\right)}\\\\\\left(\\sin{\\left(\\theta_{1} \\right)} \\cos{\\left(\\theta_{5} \\right)} \\cos{\\left(\\theta_{2} + \\theta_{3} + \\theta_{4} \\right)} + \\sin{\\left(\\theta_{5} \\right)} \\cos{\\left(\\theta_{1} \\right)}\\right) \\cos{\\left(\\theta_{6} \\right)} - \\sin{\\left(\\theta_{1} \\right)} \\sin{\\left(\\theta_{6} \\right)} \\sin{\\left(\\theta_{2} + \\theta_{3} + \\theta_{4} \\right)} & - \\left(\\sin{\\left(\\theta_{1} \\right)} \\cos{\\left(\\theta_{5} \\right)} \\cos{\\left(\\theta_{2} + \\theta_{3} + \\theta_{4} \\right)} + \\sin{\\left(\\theta_{5} \\right)} \\cos{\\left(\\theta_{1} \\right)}\\right) \\sin{\\left(\\theta_{6} \\right)} - \\sin{\\left(\\theta_{1} \\right)} \\sin{\\left(\\theta_{2} + \\theta_{3} + \\theta_{4} \\right)} \\cos{\\left(\\theta_{6} \\right)} & \\sin{\\left(\\theta_{1} \\right)} \\sin{\\left(\\theta_{5} \\right)} \\cos{\\left(\\theta_{2} + \\theta_{3} + \\theta_{4} \\right)} - \\cos{\\left(\\theta_{1} \\right)} \\cos{\\left(\\theta_{5} \\right)} & - 115.5 \\sin{\\left(\\theta_{1} \\right)} \\sin{\\left(\\theta_{2} + \\theta_{3} + \\theta_{4} \\right)} - 387.8 \\sin{\\left(\\theta_{1} \\right)} \\cos{\\left(\\theta_{2} \\right)} - 737.3 \\sin{\\left(\\theta_{1} \\right)} - 95.5 \\cos{\\left(\\theta_{1} \\right)}\\\\\\sin{\\left(\\theta_{6} \\right)} \\cos{\\left(\\theta_{2} + \\theta_{3} + \\theta_{4} \\right)} + \\sin{\\left(\\theta_{2} + \\theta_{3} + \\theta_{4} \\right)} \\cos{\\left(\\theta_{5} \\right)} \\cos{\\left(\\theta_{6} \\right)} & - \\sin{\\left(\\theta_{6} \\right)} \\sin{\\left(\\theta_{2} + \\theta_{3} + \\theta_{4} \\right)} \\cos{\\left(\\theta_{5} \\right)} + \\cos{\\left(\\theta_{6} \\right)} \\cos{\\left(\\theta_{2} + \\theta_{3} + \\theta_{4} \\right)} & \\sin{\\left(\\theta_{5} \\right)} \\sin{\\left(\\theta_{2} + \\theta_{3} + \\theta_{4} \\right)} & - 387.8 \\sin{\\left(\\theta_{2} \\right)} + 115.5 \\cos{\\left(\\theta_{2} + \\theta_{3} + \\theta_{4} \\right)} + 183.3\\\\0 & 0 & 0 & 1\\end{matrix}\\right]$"
      ],
      "text/plain": [
       "Matrix([\n",
       "[-(sin(theta_1)*sin(theta_5) - cos(theta_1)*cos(theta_5)*cos(theta_2 + theta_3 + theta_4))*cos(theta_6) - sin(theta_6)*sin(theta_2 + theta_3 + theta_4)*cos(theta_1),  (sin(theta_1)*sin(theta_5) - cos(theta_1)*cos(theta_5)*cos(theta_2 + theta_3 + theta_4))*sin(theta_6) - sin(theta_2 + theta_3 + theta_4)*cos(theta_1)*cos(theta_6), sin(theta_1)*cos(theta_5) + sin(theta_5)*cos(theta_1)*cos(theta_2 + theta_3 + theta_4),  95.5*sin(theta_1) - 115.5*sin(theta_2 + theta_3 + theta_4)*cos(theta_1) - 387.8*cos(theta_1)*cos(theta_2) - 737.3*cos(theta_1)],\n",
       "[ (sin(theta_1)*cos(theta_5)*cos(theta_2 + theta_3 + theta_4) + sin(theta_5)*cos(theta_1))*cos(theta_6) - sin(theta_1)*sin(theta_6)*sin(theta_2 + theta_3 + theta_4), -(sin(theta_1)*cos(theta_5)*cos(theta_2 + theta_3 + theta_4) + sin(theta_5)*cos(theta_1))*sin(theta_6) - sin(theta_1)*sin(theta_2 + theta_3 + theta_4)*cos(theta_6), sin(theta_1)*sin(theta_5)*cos(theta_2 + theta_3 + theta_4) - cos(theta_1)*cos(theta_5), -115.5*sin(theta_1)*sin(theta_2 + theta_3 + theta_4) - 387.8*sin(theta_1)*cos(theta_2) - 737.3*sin(theta_1) - 95.5*cos(theta_1)],\n",
       "[                                                         sin(theta_6)*cos(theta_2 + theta_3 + theta_4) + sin(theta_2 + theta_3 + theta_4)*cos(theta_5)*cos(theta_6),                                                         -sin(theta_6)*sin(theta_2 + theta_3 + theta_4)*cos(theta_5) + cos(theta_6)*cos(theta_2 + theta_3 + theta_4),                                          sin(theta_5)*sin(theta_2 + theta_3 + theta_4),                                                            -387.8*sin(theta_2) + 115.5*cos(theta_2 + theta_3 + theta_4) + 183.3],\n",
       "[                                                                                                                                                                  0,                                                                                                                                                                   0,                                                                                      0,                                                                                                                               1]])"
      ]
     },
     "execution_count": 22,
     "metadata": {},
     "output_type": "execute_result"
    }
   ],
   "source": [
    "a_all = a1*a2*a3*a4*a5*a6\n",
    "sp.simplify(a_all)"
   ]
  },
  {
   "cell_type": "code",
   "execution_count": null,
   "id": "89ff7053-7af8-4c0e-90e4-2051eaf604e0",
   "metadata": {},
   "outputs": [],
   "source": []
  }
 ],
 "metadata": {
  "kernelspec": {
   "display_name": "Python 3 (ipykernel)",
   "language": "python",
   "name": "python3"
  },
  "language_info": {
   "codemirror_mode": {
    "name": "ipython",
    "version": 3
   },
   "file_extension": ".py",
   "mimetype": "text/x-python",
   "name": "python",
   "nbconvert_exporter": "python",
   "pygments_lexer": "ipython3",
   "version": "3.10.12"
  }
 },
 "nbformat": 4,
 "nbformat_minor": 5
}
