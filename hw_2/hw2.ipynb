{
 "cells": [
  {
   "cell_type": "code",
   "execution_count": 48,
   "metadata": {},
   "outputs": [],
   "source": [
    "import sympy as sp\n",
    "import numpy as np\n",
    "import matplotlib.pyplot as plt\n",
    "from mpl_toolkits.mplot3d import Axes3D\n",
    "import pandas as pd"
   ]
  },
  {
   "cell_type": "code",
   "execution_count": 49,
   "metadata": {},
   "outputs": [],
   "source": [
    "d1 = 183.3\n",
    "d2 = 737.31\n",
    "d3 = 387.8\n",
    "d4 = 95.5\n",
    "d5 = 115.5\n",
    "alpha = sp.pi/2\n",
    "\n"
   ]
  },
  {
   "cell_type": "code",
   "execution_count": 50,
   "metadata": {},
   "outputs": [],
   "source": [
    "thetai = sp.Symbol('theta_i')\n",
    "theta1 = sp.Symbol('theta_1')\n",
    "theta2 = sp.Symbol('theta_2')\n",
    "theta3 = sp.Symbol('theta_3')\n",
    "theta4 = sp.Symbol('theta_4')\n",
    "theta5 = sp.Symbol('theta_5')\n",
    "theta6 = sp.Symbol('theta_6')\n",
    "\n",
    "ai = sp.Symbol('a_i')\n",
    "di = sp.Symbol('d_i')\n",
    "alphai = sp.Symbol('alpha_i')\n",
    "\n"
   ]
  },
  {
   "cell_type": "code",
   "execution_count": 51,
   "metadata": {},
   "outputs": [
    {
     "name": "stdout",
     "output_type": "stream",
     "text": [
      "         theta_i     a_i    d_i alpha_i\n",
      "0  to 1  theta_1    0.00  183.3    pi/2\n",
      "1  to 2  theta_2  737.31    0.0       0\n",
      "2  to 3  theta_3  387.80    0.0       0\n",
      "3  to 4  theta_4    0.00   95.5    pi/2\n",
      "4  to 5  theta_5    0.00  115.5   -pi/2\n",
      "5  to 6  theta_6    0.00    0.0       0\n"
     ]
    }
   ],
   "source": [
    "dh_table = {\n",
    "    \"\": [\"to 1\", \"to 2\", \"to 3\", \"to 4\", \"to 5\", \"to 6\"],\n",
    "    thetai: [theta1, theta2, theta3, theta4, theta5, theta6],\n",
    "    ai: [0, d2, d3, 0, 0, 0],\n",
    "    di: [d1, 0, 0, d4, d5, 0],\n",
    "    alphai: [alpha, 0, 0, alpha, -alpha, 0]\n",
    "\n",
    "}\n",
    "\n",
    "df = pd.DataFrame(dh_table)\n",
    "print(df)"
   ]
  },
  {
   "cell_type": "code",
   "execution_count": 52,
   "metadata": {},
   "outputs": [],
   "source": [
    "A1tz = sp.Matrix([[1,0,0,0],[0,1,0,0],[0,0,1,d1],[0,0,0,1]])\n",
    "A1rz = sp.Matrix([[sp.cos(theta1),-sp.sin(theta1),0,0],[sp.sin(theta1),sp.cos(theta1),0,0],[0,0,1,0],[0,0,0,1]])\n",
    "A1rx = sp.Matrix([[1,0,0,0],[0,sp.cos(alpha),-sp.sin(alpha),0],[0,sp.sin(alpha),sp.cos(alpha),0],[0,0,0,1]])\n",
    "A1 = A1tz*A1rz*A1rx\n"
   ]
  },
  {
   "cell_type": "code",
   "execution_count": 53,
   "metadata": {},
   "outputs": [],
   "source": [
    "A2ty = sp.Matrix([[1,0,0,0],[0,1,0,d2],[0,0,1,0],[0,0,0,1]])\n",
    "A2rz = sp.Matrix([[sp.cos(theta2),-sp.sin(theta2),0,0],[sp.sin(theta2),sp.cos(theta2),0,0],[0,0,1,0],[0,0,0,1]])\n",
    "A2 = A2ty*A2rz"
   ]
  },
  {
   "cell_type": "code",
   "execution_count": 54,
   "metadata": {},
   "outputs": [],
   "source": [
    "A3tx = sp.Matrix([[1,0,0,-d3],[0,1,0,0],[0,0,1,0],[0,0,0,1]])\n",
    "A3rz = sp.Matrix([[sp.cos(theta3),-sp.sin(theta3),0,0],[sp.sin(theta3),sp.cos(theta3),0,0],[0,0,1,0],[0,0,0,1]])\n",
    "A3 = A3tx*A3rz"
   ]
  },
  {
   "cell_type": "code",
   "execution_count": 55,
   "metadata": {},
   "outputs": [],
   "source": [
    "A4tz = sp.Matrix([[1,0,0,0],[0,1,0,0],[0,0,1,d4],[0,0,0,1]])\n",
    "A4rz = sp.Matrix([[sp.cos(theta4),-sp.sin(theta4),0,0],[sp.sin(theta4),sp.cos(theta4),0,0],[0,0,1,0],[0,0,0,1]])\n",
    "A4rx = sp.Matrix([[1,0,0,0],[0,sp.cos(alpha),-sp.sin(alpha),0],[0,sp.sin(alpha),sp.cos(alpha),0],[0,0,0,1]])\n",
    "A4 = A4tz*A4rz*A4rx"
   ]
  },
  {
   "cell_type": "code",
   "execution_count": 59,
   "metadata": {},
   "outputs": [],
   "source": [
    "A5tz = sp.Matrix([[1,0,0,0],[0,1,0,0],[0,0,1,d5],[0,0,0,1]])\n",
    "A5rz = sp.Matrix([[sp.cos(theta5),-sp.sin(theta5),0,0],[sp.sin(theta5),sp.cos(theta5),0,0],[0,0,1,0],[0,0,0,1]])\n",
    "A5rx = sp.Matrix([[1,0,0,0],[0,sp.cos(-alpha),-sp.sin(-alpha),0],[0,sp.sin(-alpha),sp.cos(-alpha),0],[0,0,0,1]])\n",
    "A5 = A5tz*A5rz*A5rx"
   ]
  },
  {
   "cell_type": "code",
   "execution_count": 60,
   "metadata": {},
   "outputs": [],
   "source": [
    "A6 = sp.Matrix([[sp.cos(theta6),-sp.sin(theta6),0,0],[sp.sin(theta6),sp.cos(theta6),0,0],[0,0,1,0],[0,0,0,1]])"
   ]
  },
  {
   "cell_type": "code",
   "execution_count": 61,
   "metadata": {},
   "outputs": [
    {
     "data": {
      "text/latex": [
       "$\\displaystyle \\left[\\begin{matrix}\\left(\\left(\\left(- \\sin{\\left(\\theta_{2} \\right)} \\sin{\\left(\\theta_{3} \\right)} \\cos{\\left(\\theta_{1} \\right)} + \\cos{\\left(\\theta_{1} \\right)} \\cos{\\left(\\theta_{2} \\right)} \\cos{\\left(\\theta_{3} \\right)}\\right) \\cos{\\left(\\theta_{4} \\right)} + \\left(- \\sin{\\left(\\theta_{2} \\right)} \\cos{\\left(\\theta_{1} \\right)} \\cos{\\left(\\theta_{3} \\right)} - \\sin{\\left(\\theta_{3} \\right)} \\cos{\\left(\\theta_{1} \\right)} \\cos{\\left(\\theta_{2} \\right)}\\right) \\sin{\\left(\\theta_{4} \\right)}\\right) \\cos{\\left(\\theta_{5} \\right)} + \\sin{\\left(\\theta_{1} \\right)} \\sin{\\left(\\theta_{5} \\right)}\\right) \\cos{\\left(\\theta_{6} \\right)} + \\left(- \\left(- \\sin{\\left(\\theta_{2} \\right)} \\sin{\\left(\\theta_{3} \\right)} \\cos{\\left(\\theta_{1} \\right)} + \\cos{\\left(\\theta_{1} \\right)} \\cos{\\left(\\theta_{2} \\right)} \\cos{\\left(\\theta_{3} \\right)}\\right) \\sin{\\left(\\theta_{4} \\right)} + \\left(- \\sin{\\left(\\theta_{2} \\right)} \\cos{\\left(\\theta_{1} \\right)} \\cos{\\left(\\theta_{3} \\right)} - \\sin{\\left(\\theta_{3} \\right)} \\cos{\\left(\\theta_{1} \\right)} \\cos{\\left(\\theta_{2} \\right)}\\right) \\cos{\\left(\\theta_{4} \\right)}\\right) \\sin{\\left(\\theta_{6} \\right)} & - \\left(\\left(\\left(- \\sin{\\left(\\theta_{2} \\right)} \\sin{\\left(\\theta_{3} \\right)} \\cos{\\left(\\theta_{1} \\right)} + \\cos{\\left(\\theta_{1} \\right)} \\cos{\\left(\\theta_{2} \\right)} \\cos{\\left(\\theta_{3} \\right)}\\right) \\cos{\\left(\\theta_{4} \\right)} + \\left(- \\sin{\\left(\\theta_{2} \\right)} \\cos{\\left(\\theta_{1} \\right)} \\cos{\\left(\\theta_{3} \\right)} - \\sin{\\left(\\theta_{3} \\right)} \\cos{\\left(\\theta_{1} \\right)} \\cos{\\left(\\theta_{2} \\right)}\\right) \\sin{\\left(\\theta_{4} \\right)}\\right) \\cos{\\left(\\theta_{5} \\right)} + \\sin{\\left(\\theta_{1} \\right)} \\sin{\\left(\\theta_{5} \\right)}\\right) \\sin{\\left(\\theta_{6} \\right)} + \\left(- \\left(- \\sin{\\left(\\theta_{2} \\right)} \\sin{\\left(\\theta_{3} \\right)} \\cos{\\left(\\theta_{1} \\right)} + \\cos{\\left(\\theta_{1} \\right)} \\cos{\\left(\\theta_{2} \\right)} \\cos{\\left(\\theta_{3} \\right)}\\right) \\sin{\\left(\\theta_{4} \\right)} + \\left(- \\sin{\\left(\\theta_{2} \\right)} \\cos{\\left(\\theta_{1} \\right)} \\cos{\\left(\\theta_{3} \\right)} - \\sin{\\left(\\theta_{3} \\right)} \\cos{\\left(\\theta_{1} \\right)} \\cos{\\left(\\theta_{2} \\right)}\\right) \\cos{\\left(\\theta_{4} \\right)}\\right) \\cos{\\left(\\theta_{6} \\right)} & - \\left(\\left(- \\sin{\\left(\\theta_{2} \\right)} \\sin{\\left(\\theta_{3} \\right)} \\cos{\\left(\\theta_{1} \\right)} + \\cos{\\left(\\theta_{1} \\right)} \\cos{\\left(\\theta_{2} \\right)} \\cos{\\left(\\theta_{3} \\right)}\\right) \\cos{\\left(\\theta_{4} \\right)} + \\left(- \\sin{\\left(\\theta_{2} \\right)} \\cos{\\left(\\theta_{1} \\right)} \\cos{\\left(\\theta_{3} \\right)} - \\sin{\\left(\\theta_{3} \\right)} \\cos{\\left(\\theta_{1} \\right)} \\cos{\\left(\\theta_{2} \\right)}\\right) \\sin{\\left(\\theta_{4} \\right)}\\right) \\sin{\\left(\\theta_{5} \\right)} + \\sin{\\left(\\theta_{1} \\right)} \\cos{\\left(\\theta_{5} \\right)} & 115.5 \\left(- \\sin{\\left(\\theta_{2} \\right)} \\sin{\\left(\\theta_{3} \\right)} \\cos{\\left(\\theta_{1} \\right)} + \\cos{\\left(\\theta_{1} \\right)} \\cos{\\left(\\theta_{2} \\right)} \\cos{\\left(\\theta_{3} \\right)}\\right) \\sin{\\left(\\theta_{4} \\right)} - 115.5 \\left(- \\sin{\\left(\\theta_{2} \\right)} \\cos{\\left(\\theta_{1} \\right)} \\cos{\\left(\\theta_{3} \\right)} - \\sin{\\left(\\theta_{3} \\right)} \\cos{\\left(\\theta_{1} \\right)} \\cos{\\left(\\theta_{2} \\right)}\\right) \\cos{\\left(\\theta_{4} \\right)} + 95.5 \\sin{\\left(\\theta_{1} \\right)} - 387.8 \\cos{\\left(\\theta_{1} \\right)} \\cos{\\left(\\theta_{2} \\right)}\\\\\\left(\\left(\\left(- \\sin{\\left(\\theta_{1} \\right)} \\sin{\\left(\\theta_{2} \\right)} \\sin{\\left(\\theta_{3} \\right)} + \\sin{\\left(\\theta_{1} \\right)} \\cos{\\left(\\theta_{2} \\right)} \\cos{\\left(\\theta_{3} \\right)}\\right) \\cos{\\left(\\theta_{4} \\right)} + \\left(- \\sin{\\left(\\theta_{1} \\right)} \\sin{\\left(\\theta_{2} \\right)} \\cos{\\left(\\theta_{3} \\right)} - \\sin{\\left(\\theta_{1} \\right)} \\sin{\\left(\\theta_{3} \\right)} \\cos{\\left(\\theta_{2} \\right)}\\right) \\sin{\\left(\\theta_{4} \\right)}\\right) \\cos{\\left(\\theta_{5} \\right)} - \\sin{\\left(\\theta_{5} \\right)} \\cos{\\left(\\theta_{1} \\right)}\\right) \\cos{\\left(\\theta_{6} \\right)} + \\left(- \\left(- \\sin{\\left(\\theta_{1} \\right)} \\sin{\\left(\\theta_{2} \\right)} \\sin{\\left(\\theta_{3} \\right)} + \\sin{\\left(\\theta_{1} \\right)} \\cos{\\left(\\theta_{2} \\right)} \\cos{\\left(\\theta_{3} \\right)}\\right) \\sin{\\left(\\theta_{4} \\right)} + \\left(- \\sin{\\left(\\theta_{1} \\right)} \\sin{\\left(\\theta_{2} \\right)} \\cos{\\left(\\theta_{3} \\right)} - \\sin{\\left(\\theta_{1} \\right)} \\sin{\\left(\\theta_{3} \\right)} \\cos{\\left(\\theta_{2} \\right)}\\right) \\cos{\\left(\\theta_{4} \\right)}\\right) \\sin{\\left(\\theta_{6} \\right)} & - \\left(\\left(\\left(- \\sin{\\left(\\theta_{1} \\right)} \\sin{\\left(\\theta_{2} \\right)} \\sin{\\left(\\theta_{3} \\right)} + \\sin{\\left(\\theta_{1} \\right)} \\cos{\\left(\\theta_{2} \\right)} \\cos{\\left(\\theta_{3} \\right)}\\right) \\cos{\\left(\\theta_{4} \\right)} + \\left(- \\sin{\\left(\\theta_{1} \\right)} \\sin{\\left(\\theta_{2} \\right)} \\cos{\\left(\\theta_{3} \\right)} - \\sin{\\left(\\theta_{1} \\right)} \\sin{\\left(\\theta_{3} \\right)} \\cos{\\left(\\theta_{2} \\right)}\\right) \\sin{\\left(\\theta_{4} \\right)}\\right) \\cos{\\left(\\theta_{5} \\right)} - \\sin{\\left(\\theta_{5} \\right)} \\cos{\\left(\\theta_{1} \\right)}\\right) \\sin{\\left(\\theta_{6} \\right)} + \\left(- \\left(- \\sin{\\left(\\theta_{1} \\right)} \\sin{\\left(\\theta_{2} \\right)} \\sin{\\left(\\theta_{3} \\right)} + \\sin{\\left(\\theta_{1} \\right)} \\cos{\\left(\\theta_{2} \\right)} \\cos{\\left(\\theta_{3} \\right)}\\right) \\sin{\\left(\\theta_{4} \\right)} + \\left(- \\sin{\\left(\\theta_{1} \\right)} \\sin{\\left(\\theta_{2} \\right)} \\cos{\\left(\\theta_{3} \\right)} - \\sin{\\left(\\theta_{1} \\right)} \\sin{\\left(\\theta_{3} \\right)} \\cos{\\left(\\theta_{2} \\right)}\\right) \\cos{\\left(\\theta_{4} \\right)}\\right) \\cos{\\left(\\theta_{6} \\right)} & - \\left(\\left(- \\sin{\\left(\\theta_{1} \\right)} \\sin{\\left(\\theta_{2} \\right)} \\sin{\\left(\\theta_{3} \\right)} + \\sin{\\left(\\theta_{1} \\right)} \\cos{\\left(\\theta_{2} \\right)} \\cos{\\left(\\theta_{3} \\right)}\\right) \\cos{\\left(\\theta_{4} \\right)} + \\left(- \\sin{\\left(\\theta_{1} \\right)} \\sin{\\left(\\theta_{2} \\right)} \\cos{\\left(\\theta_{3} \\right)} - \\sin{\\left(\\theta_{1} \\right)} \\sin{\\left(\\theta_{3} \\right)} \\cos{\\left(\\theta_{2} \\right)}\\right) \\sin{\\left(\\theta_{4} \\right)}\\right) \\sin{\\left(\\theta_{5} \\right)} - \\cos{\\left(\\theta_{1} \\right)} \\cos{\\left(\\theta_{5} \\right)} & 115.5 \\left(- \\sin{\\left(\\theta_{1} \\right)} \\sin{\\left(\\theta_{2} \\right)} \\sin{\\left(\\theta_{3} \\right)} + \\sin{\\left(\\theta_{1} \\right)} \\cos{\\left(\\theta_{2} \\right)} \\cos{\\left(\\theta_{3} \\right)}\\right) \\sin{\\left(\\theta_{4} \\right)} - 115.5 \\left(- \\sin{\\left(\\theta_{1} \\right)} \\sin{\\left(\\theta_{2} \\right)} \\cos{\\left(\\theta_{3} \\right)} - \\sin{\\left(\\theta_{1} \\right)} \\sin{\\left(\\theta_{3} \\right)} \\cos{\\left(\\theta_{2} \\right)}\\right) \\cos{\\left(\\theta_{4} \\right)} - 387.8 \\sin{\\left(\\theta_{1} \\right)} \\cos{\\left(\\theta_{2} \\right)} - 95.5 \\cos{\\left(\\theta_{1} \\right)}\\\\\\left(\\left(- \\sin{\\left(\\theta_{2} \\right)} \\sin{\\left(\\theta_{3} \\right)} + \\cos{\\left(\\theta_{2} \\right)} \\cos{\\left(\\theta_{3} \\right)}\\right) \\sin{\\left(\\theta_{4} \\right)} + \\left(\\sin{\\left(\\theta_{2} \\right)} \\cos{\\left(\\theta_{3} \\right)} + \\sin{\\left(\\theta_{3} \\right)} \\cos{\\left(\\theta_{2} \\right)}\\right) \\cos{\\left(\\theta_{4} \\right)}\\right) \\cos{\\left(\\theta_{5} \\right)} \\cos{\\left(\\theta_{6} \\right)} + \\left(\\left(- \\sin{\\left(\\theta_{2} \\right)} \\sin{\\left(\\theta_{3} \\right)} + \\cos{\\left(\\theta_{2} \\right)} \\cos{\\left(\\theta_{3} \\right)}\\right) \\cos{\\left(\\theta_{4} \\right)} - \\left(\\sin{\\left(\\theta_{2} \\right)} \\cos{\\left(\\theta_{3} \\right)} + \\sin{\\left(\\theta_{3} \\right)} \\cos{\\left(\\theta_{2} \\right)}\\right) \\sin{\\left(\\theta_{4} \\right)}\\right) \\sin{\\left(\\theta_{6} \\right)} & - \\left(\\left(- \\sin{\\left(\\theta_{2} \\right)} \\sin{\\left(\\theta_{3} \\right)} + \\cos{\\left(\\theta_{2} \\right)} \\cos{\\left(\\theta_{3} \\right)}\\right) \\sin{\\left(\\theta_{4} \\right)} + \\left(\\sin{\\left(\\theta_{2} \\right)} \\cos{\\left(\\theta_{3} \\right)} + \\sin{\\left(\\theta_{3} \\right)} \\cos{\\left(\\theta_{2} \\right)}\\right) \\cos{\\left(\\theta_{4} \\right)}\\right) \\sin{\\left(\\theta_{6} \\right)} \\cos{\\left(\\theta_{5} \\right)} + \\left(\\left(- \\sin{\\left(\\theta_{2} \\right)} \\sin{\\left(\\theta_{3} \\right)} + \\cos{\\left(\\theta_{2} \\right)} \\cos{\\left(\\theta_{3} \\right)}\\right) \\cos{\\left(\\theta_{4} \\right)} - \\left(\\sin{\\left(\\theta_{2} \\right)} \\cos{\\left(\\theta_{3} \\right)} + \\sin{\\left(\\theta_{3} \\right)} \\cos{\\left(\\theta_{2} \\right)}\\right) \\sin{\\left(\\theta_{4} \\right)}\\right) \\cos{\\left(\\theta_{6} \\right)} & - \\left(\\left(- \\sin{\\left(\\theta_{2} \\right)} \\sin{\\left(\\theta_{3} \\right)} + \\cos{\\left(\\theta_{2} \\right)} \\cos{\\left(\\theta_{3} \\right)}\\right) \\sin{\\left(\\theta_{4} \\right)} + \\left(\\sin{\\left(\\theta_{2} \\right)} \\cos{\\left(\\theta_{3} \\right)} + \\sin{\\left(\\theta_{3} \\right)} \\cos{\\left(\\theta_{2} \\right)}\\right) \\cos{\\left(\\theta_{4} \\right)}\\right) \\sin{\\left(\\theta_{5} \\right)} & - 115.5 \\left(- \\sin{\\left(\\theta_{2} \\right)} \\sin{\\left(\\theta_{3} \\right)} + \\cos{\\left(\\theta_{2} \\right)} \\cos{\\left(\\theta_{3} \\right)}\\right) \\cos{\\left(\\theta_{4} \\right)} + 115.5 \\left(\\sin{\\left(\\theta_{2} \\right)} \\cos{\\left(\\theta_{3} \\right)} + \\sin{\\left(\\theta_{3} \\right)} \\cos{\\left(\\theta_{2} \\right)}\\right) \\sin{\\left(\\theta_{4} \\right)} - 387.8 \\sin{\\left(\\theta_{2} \\right)} + 920.61\\\\0 & 0 & 0 & 1\\end{matrix}\\right]$"
      ],
      "text/plain": [
       "Matrix([\n",
       "[(((-sin(theta_2)*sin(theta_3)*cos(theta_1) + cos(theta_1)*cos(theta_2)*cos(theta_3))*cos(theta_4) + (-sin(theta_2)*cos(theta_1)*cos(theta_3) - sin(theta_3)*cos(theta_1)*cos(theta_2))*sin(theta_4))*cos(theta_5) + sin(theta_1)*sin(theta_5))*cos(theta_6) + (-(-sin(theta_2)*sin(theta_3)*cos(theta_1) + cos(theta_1)*cos(theta_2)*cos(theta_3))*sin(theta_4) + (-sin(theta_2)*cos(theta_1)*cos(theta_3) - sin(theta_3)*cos(theta_1)*cos(theta_2))*cos(theta_4))*sin(theta_6), -(((-sin(theta_2)*sin(theta_3)*cos(theta_1) + cos(theta_1)*cos(theta_2)*cos(theta_3))*cos(theta_4) + (-sin(theta_2)*cos(theta_1)*cos(theta_3) - sin(theta_3)*cos(theta_1)*cos(theta_2))*sin(theta_4))*cos(theta_5) + sin(theta_1)*sin(theta_5))*sin(theta_6) + (-(-sin(theta_2)*sin(theta_3)*cos(theta_1) + cos(theta_1)*cos(theta_2)*cos(theta_3))*sin(theta_4) + (-sin(theta_2)*cos(theta_1)*cos(theta_3) - sin(theta_3)*cos(theta_1)*cos(theta_2))*cos(theta_4))*cos(theta_6), -((-sin(theta_2)*sin(theta_3)*cos(theta_1) + cos(theta_1)*cos(theta_2)*cos(theta_3))*cos(theta_4) + (-sin(theta_2)*cos(theta_1)*cos(theta_3) - sin(theta_3)*cos(theta_1)*cos(theta_2))*sin(theta_4))*sin(theta_5) + sin(theta_1)*cos(theta_5), 115.5*(-sin(theta_2)*sin(theta_3)*cos(theta_1) + cos(theta_1)*cos(theta_2)*cos(theta_3))*sin(theta_4) - 115.5*(-sin(theta_2)*cos(theta_1)*cos(theta_3) - sin(theta_3)*cos(theta_1)*cos(theta_2))*cos(theta_4) + 95.5*sin(theta_1) - 387.8*cos(theta_1)*cos(theta_2)],\n",
       "[(((-sin(theta_1)*sin(theta_2)*sin(theta_3) + sin(theta_1)*cos(theta_2)*cos(theta_3))*cos(theta_4) + (-sin(theta_1)*sin(theta_2)*cos(theta_3) - sin(theta_1)*sin(theta_3)*cos(theta_2))*sin(theta_4))*cos(theta_5) - sin(theta_5)*cos(theta_1))*cos(theta_6) + (-(-sin(theta_1)*sin(theta_2)*sin(theta_3) + sin(theta_1)*cos(theta_2)*cos(theta_3))*sin(theta_4) + (-sin(theta_1)*sin(theta_2)*cos(theta_3) - sin(theta_1)*sin(theta_3)*cos(theta_2))*cos(theta_4))*sin(theta_6), -(((-sin(theta_1)*sin(theta_2)*sin(theta_3) + sin(theta_1)*cos(theta_2)*cos(theta_3))*cos(theta_4) + (-sin(theta_1)*sin(theta_2)*cos(theta_3) - sin(theta_1)*sin(theta_3)*cos(theta_2))*sin(theta_4))*cos(theta_5) - sin(theta_5)*cos(theta_1))*sin(theta_6) + (-(-sin(theta_1)*sin(theta_2)*sin(theta_3) + sin(theta_1)*cos(theta_2)*cos(theta_3))*sin(theta_4) + (-sin(theta_1)*sin(theta_2)*cos(theta_3) - sin(theta_1)*sin(theta_3)*cos(theta_2))*cos(theta_4))*cos(theta_6), -((-sin(theta_1)*sin(theta_2)*sin(theta_3) + sin(theta_1)*cos(theta_2)*cos(theta_3))*cos(theta_4) + (-sin(theta_1)*sin(theta_2)*cos(theta_3) - sin(theta_1)*sin(theta_3)*cos(theta_2))*sin(theta_4))*sin(theta_5) - cos(theta_1)*cos(theta_5), 115.5*(-sin(theta_1)*sin(theta_2)*sin(theta_3) + sin(theta_1)*cos(theta_2)*cos(theta_3))*sin(theta_4) - 115.5*(-sin(theta_1)*sin(theta_2)*cos(theta_3) - sin(theta_1)*sin(theta_3)*cos(theta_2))*cos(theta_4) - 387.8*sin(theta_1)*cos(theta_2) - 95.5*cos(theta_1)],\n",
       "[                                                                                                                                         ((-sin(theta_2)*sin(theta_3) + cos(theta_2)*cos(theta_3))*sin(theta_4) + (sin(theta_2)*cos(theta_3) + sin(theta_3)*cos(theta_2))*cos(theta_4))*cos(theta_5)*cos(theta_6) + ((-sin(theta_2)*sin(theta_3) + cos(theta_2)*cos(theta_3))*cos(theta_4) - (sin(theta_2)*cos(theta_3) + sin(theta_3)*cos(theta_2))*sin(theta_4))*sin(theta_6),                                                                                                                                          -((-sin(theta_2)*sin(theta_3) + cos(theta_2)*cos(theta_3))*sin(theta_4) + (sin(theta_2)*cos(theta_3) + sin(theta_3)*cos(theta_2))*cos(theta_4))*sin(theta_6)*cos(theta_5) + ((-sin(theta_2)*sin(theta_3) + cos(theta_2)*cos(theta_3))*cos(theta_4) - (sin(theta_2)*cos(theta_3) + sin(theta_3)*cos(theta_2))*sin(theta_4))*cos(theta_6),                                                                                  -((-sin(theta_2)*sin(theta_3) + cos(theta_2)*cos(theta_3))*sin(theta_4) + (sin(theta_2)*cos(theta_3) + sin(theta_3)*cos(theta_2))*cos(theta_4))*sin(theta_5),                                                                             -115.5*(-sin(theta_2)*sin(theta_3) + cos(theta_2)*cos(theta_3))*cos(theta_4) + 115.5*(sin(theta_2)*cos(theta_3) + sin(theta_3)*cos(theta_2))*sin(theta_4) - 387.8*sin(theta_2) + 920.61],\n",
       "[                                                                                                                                                                                                                                                                                                                                                                                                                                                                              0,                                                                                                                                                                                                                                                                                                                                                                                                                                                                                0,                                                                                                                                                                                                                                             0,                                                                                                                                                                                                                                                                   1]])"
      ]
     },
     "execution_count": 61,
     "metadata": {},
     "output_type": "execute_result"
    }
   ],
   "source": [
    "A = A1*A2*A3*A4*A5*A6\n",
    "A"
   ]
  },
  {
   "cell_type": "code",
   "execution_count": 63,
   "metadata": {},
   "outputs": [],
   "source": [
    "O = sp.zeros(3,7)\n",
    "a_array = [1,A1,A2,A3,A4,A5,A6]\n",
    "product = 1\n",
    "for i in range(1,7):\n",
    "    product = product*a_array[i]\n",
    "    O[:,i] = sp.Matrix([[(product)[0,3]],[(product)[1,3]],[(product)[2,3]]])\n",
    "\n",
    "z = sp.zeros(3,7)\n",
    "z[:,0] = sp.Matrix([[0],[0],[1]])\n",
    "for i in range(1,7):\n",
    "    z[:,i] = sp.Matrix([[(a_array[i])[0,2]],[(a_array[i])[1,2]],[(a_array[i])[2,2]]])"
   ]
  },
  {
   "cell_type": "code",
   "execution_count": 64,
   "metadata": {},
   "outputs": [],
   "source": [
    "j = sp.zeros(6,6)\n",
    "for i in range(0,6):\n",
    "    j[:,i] = sp.Matrix([[(z.col(i)).cross((O.col(6))-(O.col(i)))],[z.col(i)]])"
   ]
  },
  {
   "cell_type": "code",
   "execution_count": null,
   "metadata": {},
   "outputs": [
    {
     "data": {
      "text/latex": [
       "$\\displaystyle 20.0$"
      ],
      "text/plain": [
       "20.0000000000000"
      ]
     },
     "execution_count": 74,
     "metadata": {},
     "output_type": "execute_result"
    }
   ],
   "source": [
    "increment = 0.01\n",
    "duration = 20\n",
    "time = np.arange(0, duration, increment)\n",
    "ee_x_initial = 0\n",
    "ee_y_initial = -172.3-45\n",
    "ee_z_initial = d1+d2+d3+d5\n",
    "\n",
    "path1_x_final = -50\n",
    "path1_y_final = ee_y_initial - 10\n",
    "path1_z_final = 1350\n",
    "\n",
    "path1_distance = sp.sqrt(((ee_x_initial-path1_x_final)**2)+((ee_y_initial-path1_y_final)**2)+(ee_z_initial-path1_z_final)**2)\n",
    "path2_distance = 50*sp.pi\n",
    "path3_distance = 50\n",
    "path4_distance = 100\n",
    "path5_distance = 50\n",
    "path6_distance = path1_distance\n",
    "total_distance = path1_distance+path2_distance+path3_distance+path4_distance+path5_distance+path6_distance\n",
    "\n",
    "path1_time = (path1_distance/total_distance)*duration\n",
    "path2_time = (path2_distance/total_distance)*duration\n",
    "path3_time = (path3_distance/total_distance)*duration\n",
    "path4_time = (path4_distance/total_distance)*duration\n",
    "path5_time = (path5_distance/total_distance)*duration\n",
    "path6_time = (path6_distance/total_distance)*duration\n",
    "\n",
    "path1_start = 0\n",
    "path2_start = path1_time.round(2)\n",
    "path3_start = (path2_start+path2_time).round(2)\n",
    "path4_start = (path3_start+path3_time).round(2)\n",
    "path5_start = (path4_start+path4_time).round(2)\n",
    "path6_start = (path5_start+path5_time).round(2)\n",
    "\n"
   ]
  }
 ],
 "metadata": {
  "kernelspec": {
   "display_name": "Python 3",
   "language": "python",
   "name": "python3"
  },
  "language_info": {
   "codemirror_mode": {
    "name": "ipython",
    "version": 3
   },
   "file_extension": ".py",
   "mimetype": "text/x-python",
   "name": "python",
   "nbconvert_exporter": "python",
   "pygments_lexer": "ipython3",
   "version": "3.10.12"
  }
 },
 "nbformat": 4,
 "nbformat_minor": 2
}
