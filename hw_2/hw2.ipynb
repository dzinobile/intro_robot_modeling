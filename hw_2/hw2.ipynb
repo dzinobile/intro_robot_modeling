{
 "cells": [
  {
   "cell_type": "code",
   "execution_count": 547,
   "metadata": {},
   "outputs": [],
   "source": [
    "import sympy as sp\n",
    "import numpy as np\n",
    "import matplotlib.pyplot as plt\n",
    "from mpl_toolkits.mplot3d import Axes3D\n",
    "import pandas as pd"
   ]
  },
  {
   "cell_type": "code",
   "execution_count": 548,
   "metadata": {},
   "outputs": [],
   "source": [
    "d1 = 183.3\n",
    "d2 = 737.31\n",
    "d3 = 387.8\n",
    "d4 = 95.5\n",
    "d5 = 115.5\n",
    "d6 = 76.8\n",
    "alpha = sp.pi/2\n",
    "\n"
   ]
  },
  {
   "cell_type": "code",
   "execution_count": null,
   "metadata": {},
   "outputs": [],
   "source": [
    "thetai = sp.Symbol('theta_i')\n",
    "theta1 = sp.Symbol('theta_1')\n",
    "theta2 = sp.Symbol('theta_2')\n",
    "theta3 = sp.Symbol('theta_3')\n",
    "theta4 = sp.Symbol('theta_4')\n",
    "theta5 = sp.Symbol('theta_5')\n",
    "theta6 = sp.Symbol('theta_6')\n",
    "t = sp.Symbol('t')\n",
    "ai = sp.Symbol('a_i')\n",
    "di = sp.Symbol('d_i')\n",
    "alphai = sp.Symbol('alpha_i')\n",
    "pi = sp.Symbol('pi')\n",
    "\n"
   ]
  },
  {
   "cell_type": "code",
   "execution_count": 550,
   "metadata": {},
   "outputs": [
    {
     "name": "stdout",
     "output_type": "stream",
     "text": [
      "                theta_i     a_i    d_i alpha_i\n",
      "0  to 1         theta_1    0.00  183.3    pi/2\n",
      "1  to 2  pi/2 + theta_2  737.31    0.0       0\n",
      "2  to 3         theta_3  387.80    0.0       0\n",
      "3  to 4  pi/2 + theta_4    0.00  -95.5    pi/2\n",
      "4  to 5         theta_5    0.00  115.5   -pi/2\n",
      "5  to 6         theta_6    0.00   76.8       0\n"
     ]
    }
   ],
   "source": [
    "dh_table = {\n",
    "    \"\": [\"to 1\", \"to 2\", \"to 3\", \"to 4\", \"to 5\", \"to 6\"],\n",
    "    thetai: [theta1, pi/2 + theta2, theta3, pi/2 + theta4, theta5, theta6],\n",
    "    ai: [0, d2, d3, 0, 0, 0],\n",
    "    di: [d1, 0, 0, -d4, d5, 76.8],\n",
    "    alphai: [alpha, 0, 0, alpha, -alpha, 0]\n",
    "\n",
    "}\n",
    "\n",
    "df = pd.DataFrame(dh_table)\n",
    "print(df)"
   ]
  },
  {
   "cell_type": "code",
   "execution_count": 568,
   "metadata": {},
   "outputs": [],
   "source": [
    "A1tz = sp.Matrix([[1,0,0,0],[0,1,0,0],[0,0,1,d1],[0,0,0,1]])\n",
    "A1rz = sp.Matrix([[sp.cos(theta1),-sp.sin(theta1),0,0],[sp.sin(theta1),sp.cos(theta1),0,0],[0,0,1,0],[0,0,0,1]])\n",
    "A1rx = sp.Matrix([[1,0,0,0],[0,sp.cos(alpha),-sp.sin(alpha),0],[0,sp.sin(alpha),sp.cos(alpha),0],[0,0,0,1]])\n",
    "A1 = A1tz*A1rz*A1rx\n"
   ]
  },
  {
   "cell_type": "code",
   "execution_count": 552,
   "metadata": {},
   "outputs": [],
   "source": [
    "A2ty = sp.Matrix([[1,0,0,0],[0,1,0,d2],[0,0,1,0],[0,0,0,1]])\n",
    "A2rz = sp.Matrix([[sp.cos((sp.pi/2)+theta2),-sp.sin((sp.pi/2)+theta2),0,0],[sp.sin((sp.pi/2)+theta2),sp.cos((sp.pi/2)+theta2),0,0],[0,0,1,0],[0,0,0,1]])\n",
    "A2 = A2ty*A2rz"
   ]
  },
  {
   "cell_type": "code",
   "execution_count": 553,
   "metadata": {},
   "outputs": [],
   "source": [
    "A3tx = sp.Matrix([[1,0,0,-d3],[0,1,0,0],[0,0,1,0],[0,0,0,1]])\n",
    "A3rz = sp.Matrix([[sp.cos(theta3),-sp.sin(theta3),0,0],[sp.sin(theta3),sp.cos(theta3),0,0],[0,0,1,0],[0,0,0,1]])\n",
    "A3 = A3tx*A3rz"
   ]
  },
  {
   "cell_type": "code",
   "execution_count": 554,
   "metadata": {},
   "outputs": [],
   "source": [
    "A4tz = sp.Matrix([[1,0,0,0],[0,1,0,0],[0,0,1,d4],[0,0,0,1]])\n",
    "A4rz = sp.Matrix([[sp.cos((sp.pi/2)+theta4),-sp.sin((sp.pi/2)+theta4),0,0],[sp.sin((sp.pi/2)+theta4),sp.cos((sp.pi/2)+theta4),0,0],[0,0,1,0],[0,0,0,1]])\n",
    "A4rx = sp.Matrix([[1,0,0,0],[0,sp.cos(alpha),-sp.sin(alpha),0],[0,sp.sin(alpha),sp.cos(alpha),0],[0,0,0,1]])\n",
    "A4 = A4tz*A4rz*A4rx"
   ]
  },
  {
   "cell_type": "code",
   "execution_count": 555,
   "metadata": {},
   "outputs": [],
   "source": [
    "A5tz = sp.Matrix([[1,0,0,0],[0,1,0,0],[0,0,1,d5],[0,0,0,1]])\n",
    "A5rz = sp.Matrix([[sp.cos(theta5),-sp.sin(theta5),0,0],[sp.sin(theta5),sp.cos(theta5),0,0],[0,0,1,0],[0,0,0,1]])\n",
    "A5rx = sp.Matrix([[1,0,0,0],[0,sp.cos(-alpha),-sp.sin(-alpha),0],[0,sp.sin(-alpha),sp.cos(-alpha),0],[0,0,0,1]])\n",
    "A5 = A5tz*A5rz*A5rx"
   ]
  },
  {
   "cell_type": "code",
   "execution_count": 556,
   "metadata": {},
   "outputs": [],
   "source": [
    "A6tz = sp.Matrix([[1,0,0,0],[0,1,0,0],[0,0,1,d6],[0,0,0,1]])\n",
    "A6rz = sp.Matrix([[sp.cos(theta6),-sp.sin(theta6),0,0],[sp.sin(theta5),sp.cos(theta6),0,0],[0,0,1,0],[0,0,0,1]])\n",
    "A6 = A6tz*A6rz"
   ]
  },
  {
   "cell_type": "code",
   "execution_count": 557,
   "metadata": {},
   "outputs": [],
   "source": [
    "A = A1*A2*A3*A4*A5*A6"
   ]
  },
  {
   "cell_type": "code",
   "execution_count": null,
   "metadata": {},
   "outputs": [],
   "source": [
    "O = sp.zeros(3,7)\n",
    "a_array = [1,A1,A2,A3,A4,A5,A6]\n",
    "product = sp.eye(4)\n",
    "for i in range(1,7):\n",
    "    product = product*a_array[i]\n",
    "    O[:,i] = sp.Matrix([\n",
    "        [(product)[0,3]],\n",
    "        [(product)[1,3]],\n",
    "        [(product)[2,3]]])\n",
    "\n",
    "\n",
    "\n",
    "\n",
    "z = sp.zeros(3,7)\n",
    "z[:,0] = sp.Matrix([[0],[0],[1]])\n",
    "for i in range(1,7):\n",
    "    z[:,i] = sp.Matrix([\n",
    "        [(a_array[i])[0,2]],\n",
    "        [(a_array[i])[1,2]],\n",
    "        [(a_array[i])[2,2]]])\n"
   ]
  },
  {
   "cell_type": "code",
   "execution_count": 559,
   "metadata": {},
   "outputs": [],
   "source": [
    "j = sp.zeros(6,6)\n",
    "for i in range(0,6):\n",
    "    j[:,i] = sp.Matrix([[(z.col(i)).cross((O.col(6))-(O.col(i)))],[z.col(i)]])\n"
   ]
  },
  {
   "cell_type": "code",
   "execution_count": 560,
   "metadata": {},
   "outputs": [],
   "source": [
    "increment = 0.1\n",
    "duration = 20\n",
    "arraysize = int(duration/increment)\n",
    "time = np.arange(0, duration, increment)\n",
    "ee_x_initial = 0\n",
    "ee_y_initial = -172.3-45\n",
    "ee_z_initial = d1+d2+d3+d5\n",
    "\n",
    "path1_x_final = -50\n",
    "path1_y_final = ee_y_initial - 10\n",
    "path1_z_final = 1350\n",
    "\n",
    "path1_distance = sp.sqrt(((ee_x_initial-path1_x_final)**2)+((ee_y_initial-path1_y_final)**2)+(ee_z_initial-path1_z_final)**2)\n",
    "path2_distance = 50*sp.pi\n",
    "path3_distance = 50\n",
    "path4_distance = 100\n",
    "path5_distance = 50\n",
    "path6_distance = path1_distance\n",
    "total_distance = path1_distance+path2_distance+path3_distance+path4_distance+path5_distance+path6_distance\n",
    "\n",
    "path1_time = (path1_distance/total_distance)*duration\n",
    "path2_time = (path2_distance/total_distance)*duration\n",
    "path3_time = (path3_distance/total_distance)*duration\n",
    "path4_time = (path4_distance/total_distance)*duration\n",
    "path5_time = (path5_distance/total_distance)*duration\n",
    "path6_time = (path6_distance/total_distance)*duration\n",
    "\n",
    "path1_start = 0\n",
    "path2_start = path1_time.round(1)\n",
    "path3_start = (path2_start+path2_time).round(1)\n",
    "path4_start = (path3_start+path3_time).round(1)\n",
    "path5_start = (path4_start+path4_time).round(1)\n",
    "path6_start = (path5_start+path5_time).round(1)\n",
    "\n",
    "\n"
   ]
  },
  {
   "cell_type": "code",
   "execution_count": 570,
   "metadata": {},
   "outputs": [],
   "source": [
    "\n",
    "path1_xdot = (path1_x_final-ee_x_initial)/path1_time\n",
    "path1_ydot = (path1_y_final-ee_y_initial)/path1_time\n",
    "path1_zdot = (path1_z_final-ee_z_initial)/path1_time\n",
    "\n",
    "path2_x = path1_x_final+(50*sp.cos((sp.pi/path2_time)*t))\n",
    "path2_y = path1_y_final\n",
    "path2_z = path1_z_final+(50*sp.sin((sp.pi/path2_time)*t))\n",
    "path2_xdot = sp.diff(path2_x,t)\n",
    "path2_ydot = sp.diff(path2_y,t)\n",
    "path2_zdot = sp.diff(path2_z,t)\n",
    "\n",
    "path3_xdot = 0\n",
    "path3_ydot = 0\n",
    "path3_zdot = -50/path3_time\n",
    "\n",
    "path4_xdot = -100/path4_time\n",
    "path4_ydot = 0\n",
    "path4_zdot = 0\n",
    "\n",
    "path5_xdot = 0\n",
    "path5_ydot = 0\n",
    "path5_zdot = 50/path5_time\n",
    "\n",
    "path6_xdot = -path1_xdot\n",
    "path6_ydot = -path1_ydot\n",
    "path6_zdot = -path1_zdot\n",
    "\n",
    "XDOT = sp.Matrix([\n",
    "    [path1_xdot, path2_xdot, path3_xdot, path4_xdot, path5_xdot, path6_xdot],\n",
    "    [path1_ydot, path2_ydot, path3_ydot, path4_ydot, path5_ydot, path6_ydot],\n",
    "    [path1_zdot, path2_zdot, path3_zdot, path4_zdot, path5_zdot, path6_zdot],\n",
    "    [0,0,0,0,0,0],\n",
    "    [0,0,0,0,0,0],\n",
    "    [0,0,0,0,0,0]])\n",
    "\n",
    "# XDOT_path1 = sp.Matrix([[path1_xdot],[path1_ydot],[path1_zdot],[0],[0],[0]])\n",
    "# XDOT_path2 = sp.Matrix([[path2_xdot],[path2_ydot],[path2_zdot],[0],[0],[0]])\n",
    "# XDOT_path3 = sp.Matrix([[path3_xdot],[path3_ydot],[path3_zdot],[0],[0],[0]])\n",
    "# XDOT_path4 = sp.Matrix([[path4_xdot],[path4_ydot],[path4_zdot],[0],[0],[0]])\n",
    "# XDOT_path5 = sp.Matrix([[path5_xdot],[path5_ydot],[path5_zdot],[0],[0],[0]])\n",
    "# XDOT_path6 = sp.Matrix([[path6_xdot],[path6_ydot],[path6_zdot],[0],[0],[0]])\n",
    "\n",
    "\n"
   ]
  },
  {
   "cell_type": "code",
   "execution_count": 562,
   "metadata": {},
   "outputs": [],
   "source": [
    "\n",
    "path1_arraysize = int(path1_time/increment)\n",
    "path2_arraysize = int(path2_time/increment)\n",
    "path3_arraysize = int(path3_time/increment)\n",
    "path4_arraysize = int(path4_time/increment)\n",
    "path5_arraysize = int(path5_time/increment)\n",
    "path6_arraysize = int(path6_time/increment)"
   ]
  },
  {
   "cell_type": "code",
   "execution_count": null,
   "metadata": {},
   "outputs": [],
   "source": [
    "jinv_initial = (j.subs([\n",
    "    (theta1,0),\n",
    "    (theta2,0),\n",
    "    (theta3,0),\n",
    "    (theta4,0),\n",
    "    (theta5,0),\n",
    "    (theta6,0)])).pinv()\n",
    "\n",
    "thetadot_initial = jinv_initial*XDOT[:,0]\n",
    "\n",
    "\n",
    "path2_timearray = np.arange(path2_start, path2_start+path2_time, increment)\n",
    "\n",
    "path1_theta1_array = [0]*path1_arraysize \n",
    "path1_theta2_array = [0]*path1_arraysize \n",
    "path1_theta3_array = [0]*path1_arraysize \n",
    "path1_theta4_array = [0]*path1_arraysize\n",
    "path1_theta5_array = [0]*path1_arraysize\n",
    "path1_theta6_array = [0]*path1_arraysize\n",
    "\n",
    "\n",
    "path1_thetadot1_array = [(thetadot_initial[0])]*path1_arraysize \n",
    "path1_thetadot2_array = [(thetadot_initial[1])]*path1_arraysize \n",
    "path1_thetadot3_array = [(thetadot_initial[2])]*path1_arraysize \n",
    "path1_thetadot4_array = [(thetadot_initial[3])]*path1_arraysize \n",
    "path1_thetadot5_array = [(thetadot_initial[4])]*path1_arraysize \n",
    "path1_thetadot6_array = [(thetadot_initial[5])]*path1_arraysize \n",
    "\n",
    "\n",
    "\n",
    "\n",
    "\n"
   ]
  },
  {
   "cell_type": "code",
   "execution_count": 564,
   "metadata": {},
   "outputs": [],
   "source": [
    "\n",
    "\n",
    "\n",
    "\n",
    "for i in range(1, path1_arraysize):\n",
    "    path1_theta1_array[i] = (path1_theta1_array[i-1]+(path1_thetadot1_array[i-1]*increment)).round(5)\n",
    "    path1_theta2_array[i] = (path1_theta2_array[i-1]+(path1_thetadot2_array[i-1]*increment)).round(5)\n",
    "    path1_theta3_array[i] = (path1_theta3_array[i-1]+(path1_thetadot3_array[i-1]*increment)).round(5)\n",
    "    path1_theta4_array[i] = (path1_theta4_array[i-1]+(path1_thetadot4_array[i-1]*increment)).round(5)\n",
    "    path1_theta5_array[i] = (path1_theta5_array[i-1]+(path1_thetadot5_array[i-1]*increment)).round(5)\n",
    "    path1_theta6_array[i] = (path1_theta6_array[i-1]+(path1_thetadot6_array[i-1]*increment)).round(5)\n",
    "    jsubs = j.subs([(theta1,path1_theta1_array[i]),(theta2,path1_theta2_array[i]),(theta3,path1_theta3_array[i]),(theta4,path1_theta4_array[i]),(theta5,path1_theta5_array[i]),(theta6,path1_theta6_array[i])])\n",
    "    jinv = jsubs.pinv()\n",
    "    thetadot = jinv*XDOT_path1\n",
    "    path1_thetadot1_array[i] = thetadot[0]\n",
    "    path1_thetadot2_array[i] = thetadot[1]\n",
    "    path1_thetadot3_array[i] = thetadot[2]\n",
    "    path1_thetadot4_array[i] = thetadot[3]\n",
    "    path1_thetadot5_array[i] = thetadot[4]\n",
    "    path1_thetadot6_array[i] = thetadot[5]\n",
    "\n",
    "\n"
   ]
  },
  {
   "cell_type": "code",
   "execution_count": 565,
   "metadata": {},
   "outputs": [],
   "source": [
    "\n",
    "path2_theta1_array = [path1_theta1_array[-1]]*path2_arraysize \n",
    "path2_theta2_array = [path1_theta2_array[-1]]*path2_arraysize \n",
    "path2_theta3_array = [path1_theta3_array[-1]]*path2_arraysize \n",
    "path2_theta4_array = [path1_theta4_array[-1]]*path2_arraysize\n",
    "path2_theta5_array = [path1_theta5_array[-1]]*path2_arraysize\n",
    "path2_theta6_array = [path1_theta6_array[-1]]*path2_arraysize\n",
    "\n",
    "path2_thetadot1_array = [path1_thetadot1_array[-1]]*path2_arraysize \n",
    "path2_thetadot2_array = [path1_thetadot2_array[-1]]*path2_arraysize \n",
    "path2_thetadot3_array = [path1_thetadot3_array[-1]]*path2_arraysize \n",
    "path2_thetadot4_array = [path1_thetadot4_array[-1]]*path2_arraysize \n",
    "path2_thetadot5_array = [path1_thetadot5_array[-1]]*path2_arraysize \n",
    "path2_thetadot6_array = [path1_thetadot6_array[-1]]*path2_arraysize \n",
    "\n",
    "\n",
    "\n",
    "for i in range(1, path2_arraysize):\n",
    "    path2_theta1_array[i] = (path2_theta1_array[i-1]+(path2_thetadot1_array[i-1]*increment)).round(5)\n",
    "    path2_theta2_array[i] = (path2_theta2_array[i-1]+(path2_thetadot2_array[i-1]*increment)).round(5)\n",
    "    path2_theta3_array[i] = (path2_theta3_array[i-1]+(path2_thetadot3_array[i-1]*increment)).round(5)\n",
    "    path2_theta4_array[i] = (path2_theta4_array[i-1]+(path2_thetadot4_array[i-1]*increment)).round(5)\n",
    "    path2_theta5_array[i] = (path2_theta5_array[i-1]+(path2_thetadot5_array[i-1]*increment)).round(5)\n",
    "    path2_theta6_array[i] = (path2_theta6_array[i-1]+(path2_thetadot6_array[i-1]*increment)).round(5)\n",
    "    jsubs = j.subs([(theta1,path2_theta1_array[i]),(theta2,path2_theta2_array[i]),(theta3,path2_theta3_array[i]),(theta4,path2_theta4_array[i]),(theta5,path2_theta5_array[i]),(theta6,path2_theta6_array[i])])\n",
    "    jinv = jsubs.pinv()\n",
    "    thetadot = jinv*(XDOT_path2.subs([(t,path2_timearray[i-1])]))\n",
    "    path2_thetadot1_array[i] = thetadot[0]\n",
    "    path2_thetadot2_array[i] = thetadot[1]\n",
    "    path2_thetadot3_array[i] = thetadot[2]\n",
    "    path2_thetadot4_array[i] = thetadot[3]\n",
    "    path2_thetadot5_array[i] = thetadot[4]\n",
    "    path2_thetadot6_array[i] = thetadot[5]\n",
    "\n",
    "\n"
   ]
  },
  {
   "cell_type": "code",
   "execution_count": 571,
   "metadata": {},
   "outputs": [],
   "source": [
    "\n",
    "# link1x2array = [0]*path1_arraysize\n",
    "# link1y2array = [0]*path1_arraysize\n",
    "# link1z2array = [0]*path1_arraysize\n",
    "# for i in range(0, path1_arraysize):\n",
    "#     link1x2array[i] = -172.3*sp.cos(path1_theta1_array[i])\n",
    "#     link1y2array[i] = -172.3*sp.sin(path1_theta1_array[i])\n",
    "\n",
    "# link2x2array = [0]*path1_arraysize\n",
    "# link2y2array = [0]*path1_arraysize\n",
    "# link2z2array = [0]*path1_arraysize\n",
    "\n",
    "# for i in range(0,path1_arraysize):\n",
    "#     link2x2array[i] = 737.31*sp.cos(path1_theta2_array[i])\n",
    "#     link2z2array[i] = 737.31*sp.sin(path1_theta2_array[i])\n",
    "\n",
    "\n",
    "# i = 0\n",
    "# while i < path1_arraysize:\n",
    "#     plt.clf()\n",
    "#     plt.plot([0, link2x2array[i]],[0, link2z2array[i]])\n",
    "#     plt.axis('square')\n",
    "#     plt.grid(True)\n",
    "#     plt.xlim([-500,500])\n",
    "#     plt.ylim([-500,500])\n",
    "#     plt.gca().set_aspect('equal', adjustable='box')\n",
    "#     i = i+1\n",
    "#     plt.pause(0.05)   \n"
   ]
  },
  {
   "cell_type": "code",
   "execution_count": 584,
   "metadata": {},
   "outputs": [
    {
     "name": "stderr",
     "output_type": "stream",
     "text": [
      "/tmp/ipykernel_3467/2324897361.py:16: UserWarning: No data for colormapping provided via 'c'. Parameters 'cmap' will be ignored\n",
      "  ax.scatter([0,link1x2array[i]], [0,link1y2array[i]], [0,link1z2array[i]], cmap='viridis')\n"
     ]
    },
    {
     "data": {
      "image/png": "[encoded data removed]",
      "text/plain": [
       "<Figure size 640x480 with 1 Axes>"
      ]
     },
     "metadata": {},
     "output_type": "display_data"
    }
   ],
   "source": [
    "fig = plt.figure()\n",
    "ax = fig.add_subplot(111, projection='3d')\n",
    "\n",
    "# Generate data\n",
    "link1x2array = [0]*path1_arraysize\n",
    "link1y2array = [0]*path1_arraysize\n",
    "link1z2array = [0]*path1_arraysize\n",
    "for i in range(0, path1_arraysize):\n",
    "    link1x2array[i] = -172.3*sp.cos(path1_theta1_array[i])\n",
    "    link1y2array[i] = -172.3*sp.sin(path1_theta1_array[i])\n",
    "\n",
    "\n",
    "# Plot surface\n",
    "for i in range(0,path1_arraysize):\n",
    "    \n",
    "    ax.scatter([0,link1x2array[i]], [0,link1y2array[i]], [0,link1z2array[i]], cmap='viridis')\n",
    "    ax.plot([0,link1x2array[i]], [0, link1y2array[i]], [0, link1z2array[i]])\n",
    "   \n",
    "\n",
    "\n",
    "# Set labels\n",
    "ax.set_xlabel('X axis')\n",
    "ax.set_ylabel('Y axis')\n",
    "ax.set_zlabel('Z axis')\n",
    "\n",
    "# Show plot\n",
    "plt.show()\n",
    "\n",
    "\n"
   ]
  }
 ],
 "metadata": {
  "kernelspec": {
   "display_name": "Python 3",
   "language": "python",
   "name": "python3"
  },
  "language_info": {
   "codemirror_mode": {
    "name": "ipython",
    "version": 3
   },
   "file_extension": ".py",
   "mimetype": "text/x-python",
   "name": "python",
   "nbconvert_exporter": "python",
   "pygments_lexer": "ipython3",
   "version": "3.10.12"
  }
 },
 "nbformat": 4,
 "nbformat_minor": 2
}
