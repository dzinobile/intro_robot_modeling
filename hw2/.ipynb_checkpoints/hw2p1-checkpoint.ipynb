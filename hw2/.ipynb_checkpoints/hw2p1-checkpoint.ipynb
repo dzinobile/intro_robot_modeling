{
 "cells": [
  {
   "cell_type": "code",
   "execution_count": 105,
   "id": "9184be53-1694-4301-83e0-0089e622c3dd",
   "metadata": {},
   "outputs": [],
   "source": [
    "import sympy as sp\n",
    "import numpy as np\n"
   ]
  },
  {
   "cell_type": "code",
   "execution_count": 106,
   "id": "60944837-0c76-49e8-9cab-5336c6b0e903",
   "metadata": {},
   "outputs": [
    {
     "data": {
      "text/latex": [
       "$\\displaystyle \\left[\\begin{matrix}\\cos{\\left(\\theta_{1} \\right)} & 0 & \\sin{\\left(\\theta_{1} \\right)} & 0\\\\\\sin{\\left(\\theta_{1} \\right)} & 0 & - \\cos{\\left(\\theta_{1} \\right)} & 0\\\\0 & 1 & 0 & 183.3\\\\0 & 0 & 0 & 1\\end{matrix}\\right]$"
      ],
      "text/plain": [
       "Matrix([\n",
       "[cos(theta_1), 0,  sin(theta_1),     0],\n",
       "[sin(theta_1), 0, -cos(theta_1),     0],\n",
       "[           0, 1,             0, 183.3],\n",
       "[           0, 0,             0,     1]])"
      ]
     },
     "execution_count": 106,
     "metadata": {},
     "output_type": "execute_result"
    }
   ],
   "source": [
    "t1 = sp.Symbol('theta_1')\n",
    "alf1 = sp.pi/2\n",
    "a11 = sp.Matrix([[1,0,0,0],[0,1,0,0],[0,0,1,183.3],[0,0,0,1]])\n",
    "a12 = sp.Matrix([[sp.cos(t1),-sp.sin(t1),0,0],[sp.sin(t1), sp.cos(t1), 0,0],[0,0,1,0],[0,0,0,1]])\n",
    "a13 = sp.Matrix([[1,0,0,0],[0,sp.cos(alf1), -sp.sin(alf1), 0],[0, sp.sin(alf1), sp.cos(alf1), 0],[0,0,0,1]])\n",
    "a1 = a11*(a12*a13)\n",
    "a1"
   ]
  },
  {
   "cell_type": "code",
   "execution_count": 107,
   "id": "8f431bcf-c1c0-42b5-ac89-1b09fceafa2f",
   "metadata": {},
   "outputs": [
    {
     "data": {
      "text/latex": [
       "$\\displaystyle \\left[\\begin{matrix}\\cos{\\left(\\theta_{2} \\right)} & - \\sin{\\left(\\theta_{2} \\right)} & 0 & -737.3\\\\\\sin{\\left(\\theta_{2} \\right)} & \\cos{\\left(\\theta_{2} \\right)} & 0 & 0\\\\0 & 0 & 1 & 0\\\\0 & 0 & 0 & 1\\end{matrix}\\right]$"
      ],
      "text/plain": [
       "Matrix([\n",
       "[cos(theta_2), -sin(theta_2), 0, -737.3],\n",
       "[sin(theta_2),  cos(theta_2), 0,      0],\n",
       "[           0,             0, 1,      0],\n",
       "[           0,             0, 0,      1]])"
      ]
     },
     "execution_count": 107,
     "metadata": {},
     "output_type": "execute_result"
    }
   ],
   "source": [
    "t2 = sp.Symbol('theta_2')\n",
    "a21 = sp.Matrix([[1,0,0,-737.3],[0,1,0,0],[0,0,1,0],[0,0,0,1]])\n",
    "a22 = sp.Matrix([[sp.cos(t2), -sp.sin(t2), 0,0],[sp.sin(t2), sp.cos(t2),0,0],[0,0,1,0],[0,0,0,1]])\n",
    "a2 = a21*a22\n",
    "a2"
   ]
  },
  {
   "cell_type": "code",
   "execution_count": 108,
   "id": "9e17196b-8221-446e-bcdc-970c4087536a",
   "metadata": {},
   "outputs": [
    {
     "data": {
      "text/latex": [
       "$\\displaystyle \\left[\\begin{matrix}\\cos{\\left(\\theta_{4} \\right)} & 0 & - \\sin{\\left(\\theta_{4} \\right)} & 0\\\\\\sin{\\left(\\theta_{4} \\right)} & 0 & \\cos{\\left(\\theta_{4} \\right)} & 0\\\\0 & -1 & 0 & 95.5\\\\0 & 0 & 0 & 1\\end{matrix}\\right]$"
      ],
      "text/plain": [
       "Matrix([\n",
       "[cos(theta_4),  0, -sin(theta_4),    0],\n",
       "[sin(theta_4),  0,  cos(theta_4),    0],\n",
       "[           0, -1,             0, 95.5],\n",
       "[           0,  0,             0,    1]])"
      ]
     },
     "execution_count": 108,
     "metadata": {},
     "output_type": "execute_result"
    }
   ],
   "source": [
    "t4 = sp.Symbol('theta_4')\n",
    "alf4 = -sp.pi/2\n",
    "a41 = sp.Matrix([[1,0,0,0],[0,1,0,0],[0,0,1,95.5],[0,0,0,1]])\n",
    "a42 = sp.Matrix([[sp.cos(t4),-sp.sin(t4),0,0],[sp.sin(t4), sp.cos(t4), 0,0],[0,0,1,0],[0,0,0,1]])\n",
    "a43 = sp.Matrix([[1,0,0,0],[0,sp.cos(alf4), -sp.sin(alf4), 0],[0, sp.sin(alf4), sp.cos(alf4), 0],[0,0,0,1]])\n",
    "a4 = a41*(a42*a43)\n",
    "a4"
   ]
  },
  {
   "cell_type": "code",
   "execution_count": 109,
   "id": "92f6faab-1e26-4c04-adcb-60f430abc83d",
   "metadata": {},
   "outputs": [
    {
     "data": {
      "text/latex": [
       "$\\displaystyle \\left[\\begin{matrix}\\cos{\\left(\\theta_{3} \\right)} & - \\sin{\\left(\\theta_{3} \\right)} & 0 & -387.8\\\\\\sin{\\left(\\theta_{3} \\right)} & \\cos{\\left(\\theta_{3} \\right)} & 0 & 0\\\\0 & 0 & 1 & 0\\\\0 & 0 & 0 & 1\\end{matrix}\\right]$"
      ],
      "text/plain": [
       "Matrix([\n",
       "[cos(theta_3), -sin(theta_3), 0, -387.8],\n",
       "[sin(theta_3),  cos(theta_3), 0,      0],\n",
       "[           0,             0, 1,      0],\n",
       "[           0,             0, 0,      1]])"
      ]
     },
     "execution_count": 109,
     "metadata": {},
     "output_type": "execute_result"
    }
   ],
   "source": [
    "t3 = sp.Symbol('theta_3')\n",
    "s3 = sp.sin(t3)\n",
    "c3 = sp.cos(t3)\n",
    "a3 = sp.Matrix([[c3, -s3, 0, -387.8],[s3, c3, 0,0],[0,0,1,0],[0,0,0,1]])\n",
    "a3"
   ]
  },
  {
   "cell_type": "code",
   "execution_count": 110,
   "id": "9b5f57cc-7ec1-4d51-a53a-5a7e67efc9cf",
   "metadata": {},
   "outputs": [
    {
     "data": {
      "text/latex": [
       "$\\displaystyle \\left[\\begin{matrix}\\cos{\\left(\\theta_{5} \\right)} & 0 & \\sin{\\left(\\theta_{5} \\right)} & 0\\\\\\sin{\\left(\\theta_{5} \\right)} & 0 & - \\cos{\\left(\\theta_{5} \\right)} & 0\\\\0 & 1 & 0 & 115.5\\\\0 & 0 & 0 & 1\\end{matrix}\\right]$"
      ],
      "text/plain": [
       "Matrix([\n",
       "[cos(theta_5), 0,  sin(theta_5),     0],\n",
       "[sin(theta_5), 0, -cos(theta_5),     0],\n",
       "[           0, 1,             0, 115.5],\n",
       "[           0, 0,             0,     1]])"
      ]
     },
     "execution_count": 110,
     "metadata": {},
     "output_type": "execute_result"
    }
   ],
   "source": [
    "t5 = sp.Symbol('theta_5')\n",
    "s5 = sp.sin(t5)\n",
    "c5 = sp.cos(t5)\n",
    "a5 = sp.Matrix([[c5,0,s5,0],[s5,0,-c5,0],[0,1,0,115.5],[0,0,0,1]])\n",
    "a5"
   ]
  },
  {
   "cell_type": "code",
   "execution_count": 111,
   "id": "aa5f09c7-f87b-4776-82b4-ad332f80952f",
   "metadata": {},
   "outputs": [
    {
     "data": {
      "text/latex": [
       "$\\displaystyle \\left[\\begin{matrix}\\cos{\\left(\\theta_{6} \\right)} & - \\sin{\\left(\\theta_{6} \\right)} & 0 & 0\\\\\\sin{\\left(\\theta_{6} \\right)} & \\cos{\\left(\\theta_{6} \\right)} & 0 & 0\\\\0 & 0 & 1 & 0\\\\0 & 0 & 0 & 1\\end{matrix}\\right]$"
      ],
      "text/plain": [
       "Matrix([\n",
       "[cos(theta_6), -sin(theta_6), 0, 0],\n",
       "[sin(theta_6),  cos(theta_6), 0, 0],\n",
       "[           0,             0, 1, 0],\n",
       "[           0,             0, 0, 1]])"
      ]
     },
     "execution_count": 111,
     "metadata": {},
     "output_type": "execute_result"
    }
   ],
   "source": [
    "t6 = sp.Symbol('theta_6')\n",
    "s6 = sp.sin(t6)\n",
    "c6 = sp.cos(t6)\n",
    "a6 = sp.Matrix([[c6,-s6,0,0],[s6,c6,0,0],[0,0,1,0],[0,0,0,1]])\n",
    "a6"
   ]
  },
  {
   "cell_type": "code",
   "execution_count": 113,
   "id": "96fe3f0d-ef37-4fc9-b367-04bf471b18d0",
   "metadata": {},
   "outputs": [],
   "source": [
    "a_all = a1*a2*a3*a4*a5*a6"
   ]
  },
  {
   "cell_type": "code",
   "execution_count": 114,
   "id": "bab66282-8466-4cec-a95f-fa9180d8a609",
   "metadata": {},
   "outputs": [
    {
     "data": {
      "text/latex": [
       "$\\displaystyle \\left[\\begin{matrix}0 & 0 & - 737.3 \\cos{\\left(\\theta_{1} \\right)} & - 387.8 \\cos{\\left(\\theta_{1} \\right)} \\cos{\\left(\\theta_{2} \\right)} - 737.3 \\cos{\\left(\\theta_{1} \\right)} & 95.5 \\sin{\\left(\\theta_{1} \\right)} - 387.8 \\cos{\\left(\\theta_{1} \\right)} \\cos{\\left(\\theta_{2} \\right)} - 737.3 \\cos{\\left(\\theta_{1} \\right)} & - 115.5 \\left(- \\sin{\\left(\\theta_{2} \\right)} \\sin{\\left(\\theta_{3} \\right)} \\cos{\\left(\\theta_{1} \\right)} + \\cos{\\left(\\theta_{1} \\right)} \\cos{\\left(\\theta_{2} \\right)} \\cos{\\left(\\theta_{3} \\right)}\\right) \\sin{\\left(\\theta_{4} \\right)} + 115.5 \\left(- \\sin{\\left(\\theta_{2} \\right)} \\cos{\\left(\\theta_{1} \\right)} \\cos{\\left(\\theta_{3} \\right)} - \\sin{\\left(\\theta_{3} \\right)} \\cos{\\left(\\theta_{1} \\right)} \\cos{\\left(\\theta_{2} \\right)}\\right) \\cos{\\left(\\theta_{4} \\right)} + 95.5 \\sin{\\left(\\theta_{1} \\right)} - 387.8 \\cos{\\left(\\theta_{1} \\right)} \\cos{\\left(\\theta_{2} \\right)} - 737.3 \\cos{\\left(\\theta_{1} \\right)} & - 115.5 \\left(- \\sin{\\left(\\theta_{2} \\right)} \\sin{\\left(\\theta_{3} \\right)} \\cos{\\left(\\theta_{1} \\right)} + \\cos{\\left(\\theta_{1} \\right)} \\cos{\\left(\\theta_{2} \\right)} \\cos{\\left(\\theta_{3} \\right)}\\right) \\sin{\\left(\\theta_{4} \\right)} + 115.5 \\left(- \\sin{\\left(\\theta_{2} \\right)} \\cos{\\left(\\theta_{1} \\right)} \\cos{\\left(\\theta_{3} \\right)} - \\sin{\\left(\\theta_{3} \\right)} \\cos{\\left(\\theta_{1} \\right)} \\cos{\\left(\\theta_{2} \\right)}\\right) \\cos{\\left(\\theta_{4} \\right)} + 95.5 \\sin{\\left(\\theta_{1} \\right)} - 387.8 \\cos{\\left(\\theta_{1} \\right)} \\cos{\\left(\\theta_{2} \\right)} - 737.3 \\cos{\\left(\\theta_{1} \\right)}\\\\0 & 0 & - 737.3 \\sin{\\left(\\theta_{1} \\right)} & - 387.8 \\sin{\\left(\\theta_{1} \\right)} \\cos{\\left(\\theta_{2} \\right)} - 737.3 \\sin{\\left(\\theta_{1} \\right)} & - 387.8 \\sin{\\left(\\theta_{1} \\right)} \\cos{\\left(\\theta_{2} \\right)} - 737.3 \\sin{\\left(\\theta_{1} \\right)} - 95.5 \\cos{\\left(\\theta_{1} \\right)} & - 115.5 \\left(- \\sin{\\left(\\theta_{1} \\right)} \\sin{\\left(\\theta_{2} \\right)} \\sin{\\left(\\theta_{3} \\right)} + \\sin{\\left(\\theta_{1} \\right)} \\cos{\\left(\\theta_{2} \\right)} \\cos{\\left(\\theta_{3} \\right)}\\right) \\sin{\\left(\\theta_{4} \\right)} + 115.5 \\left(- \\sin{\\left(\\theta_{1} \\right)} \\sin{\\left(\\theta_{2} \\right)} \\cos{\\left(\\theta_{3} \\right)} - \\sin{\\left(\\theta_{1} \\right)} \\sin{\\left(\\theta_{3} \\right)} \\cos{\\left(\\theta_{2} \\right)}\\right) \\cos{\\left(\\theta_{4} \\right)} - 387.8 \\sin{\\left(\\theta_{1} \\right)} \\cos{\\left(\\theta_{2} \\right)} - 737.3 \\sin{\\left(\\theta_{1} \\right)} - 95.5 \\cos{\\left(\\theta_{1} \\right)} & - 115.5 \\left(- \\sin{\\left(\\theta_{1} \\right)} \\sin{\\left(\\theta_{2} \\right)} \\sin{\\left(\\theta_{3} \\right)} + \\sin{\\left(\\theta_{1} \\right)} \\cos{\\left(\\theta_{2} \\right)} \\cos{\\left(\\theta_{3} \\right)}\\right) \\sin{\\left(\\theta_{4} \\right)} + 115.5 \\left(- \\sin{\\left(\\theta_{1} \\right)} \\sin{\\left(\\theta_{2} \\right)} \\cos{\\left(\\theta_{3} \\right)} - \\sin{\\left(\\theta_{1} \\right)} \\sin{\\left(\\theta_{3} \\right)} \\cos{\\left(\\theta_{2} \\right)}\\right) \\cos{\\left(\\theta_{4} \\right)} - 387.8 \\sin{\\left(\\theta_{1} \\right)} \\cos{\\left(\\theta_{2} \\right)} - 737.3 \\sin{\\left(\\theta_{1} \\right)} - 95.5 \\cos{\\left(\\theta_{1} \\right)}\\\\0 & 183.3 & 183.3 & 183.3 - 387.8 \\sin{\\left(\\theta_{2} \\right)} & 183.3 - 387.8 \\sin{\\left(\\theta_{2} \\right)} & 115.5 \\left(- \\sin{\\left(\\theta_{2} \\right)} \\sin{\\left(\\theta_{3} \\right)} + \\cos{\\left(\\theta_{2} \\right)} \\cos{\\left(\\theta_{3} \\right)}\\right) \\cos{\\left(\\theta_{4} \\right)} - 115.5 \\left(\\sin{\\left(\\theta_{2} \\right)} \\cos{\\left(\\theta_{3} \\right)} + \\sin{\\left(\\theta_{3} \\right)} \\cos{\\left(\\theta_{2} \\right)}\\right) \\sin{\\left(\\theta_{4} \\right)} - 387.8 \\sin{\\left(\\theta_{2} \\right)} + 183.3 & 115.5 \\left(- \\sin{\\left(\\theta_{2} \\right)} \\sin{\\left(\\theta_{3} \\right)} + \\cos{\\left(\\theta_{2} \\right)} \\cos{\\left(\\theta_{3} \\right)}\\right) \\cos{\\left(\\theta_{4} \\right)} - 115.5 \\left(\\sin{\\left(\\theta_{2} \\right)} \\cos{\\left(\\theta_{3} \\right)} + \\sin{\\left(\\theta_{3} \\right)} \\cos{\\left(\\theta_{2} \\right)}\\right) \\sin{\\left(\\theta_{4} \\right)} - 387.8 \\sin{\\left(\\theta_{2} \\right)} + 183.3\\end{matrix}\\right]$"
      ],
      "text/plain": [
       "Matrix([\n",
       "[0,     0, -737.3*cos(theta_1), -387.8*cos(theta_1)*cos(theta_2) - 737.3*cos(theta_1),  95.5*sin(theta_1) - 387.8*cos(theta_1)*cos(theta_2) - 737.3*cos(theta_1), -115.5*(-sin(theta_2)*sin(theta_3)*cos(theta_1) + cos(theta_1)*cos(theta_2)*cos(theta_3))*sin(theta_4) + 115.5*(-sin(theta_2)*cos(theta_1)*cos(theta_3) - sin(theta_3)*cos(theta_1)*cos(theta_2))*cos(theta_4) + 95.5*sin(theta_1) - 387.8*cos(theta_1)*cos(theta_2) - 737.3*cos(theta_1), -115.5*(-sin(theta_2)*sin(theta_3)*cos(theta_1) + cos(theta_1)*cos(theta_2)*cos(theta_3))*sin(theta_4) + 115.5*(-sin(theta_2)*cos(theta_1)*cos(theta_3) - sin(theta_3)*cos(theta_1)*cos(theta_2))*cos(theta_4) + 95.5*sin(theta_1) - 387.8*cos(theta_1)*cos(theta_2) - 737.3*cos(theta_1)],\n",
       "[0,     0, -737.3*sin(theta_1), -387.8*sin(theta_1)*cos(theta_2) - 737.3*sin(theta_1), -387.8*sin(theta_1)*cos(theta_2) - 737.3*sin(theta_1) - 95.5*cos(theta_1), -115.5*(-sin(theta_1)*sin(theta_2)*sin(theta_3) + sin(theta_1)*cos(theta_2)*cos(theta_3))*sin(theta_4) + 115.5*(-sin(theta_1)*sin(theta_2)*cos(theta_3) - sin(theta_1)*sin(theta_3)*cos(theta_2))*cos(theta_4) - 387.8*sin(theta_1)*cos(theta_2) - 737.3*sin(theta_1) - 95.5*cos(theta_1), -115.5*(-sin(theta_1)*sin(theta_2)*sin(theta_3) + sin(theta_1)*cos(theta_2)*cos(theta_3))*sin(theta_4) + 115.5*(-sin(theta_1)*sin(theta_2)*cos(theta_3) - sin(theta_1)*sin(theta_3)*cos(theta_2))*cos(theta_4) - 387.8*sin(theta_1)*cos(theta_2) - 737.3*sin(theta_1) - 95.5*cos(theta_1)],\n",
       "[0, 183.3,               183.3,                            183.3 - 387.8*sin(theta_2),                                                183.3 - 387.8*sin(theta_2),                                                                                                     115.5*(-sin(theta_2)*sin(theta_3) + cos(theta_2)*cos(theta_3))*cos(theta_4) - 115.5*(sin(theta_2)*cos(theta_3) + sin(theta_3)*cos(theta_2))*sin(theta_4) - 387.8*sin(theta_2) + 183.3,                                                                                                     115.5*(-sin(theta_2)*sin(theta_3) + cos(theta_2)*cos(theta_3))*cos(theta_4) - 115.5*(sin(theta_2)*cos(theta_3) + sin(theta_3)*cos(theta_2))*sin(theta_4) - 387.8*sin(theta_2) + 183.3]])"
      ]
     },
     "execution_count": 114,
     "metadata": {},
     "output_type": "execute_result"
    }
   ],
   "source": [
    "O = sp.zeros(3,7)\n",
    "a_array = [1,a1,a2,a3,a4,a5,a6]\n",
    "product = 1\n",
    "for i in range(1,7):\n",
    "    product = product*a_array[i]\n",
    "    O[:,i] = sp.Matrix([[(product)[0,3]],[(product)[1,3]],[(product)[2,3]]])\n",
    "O\n"
   ]
  },
  {
   "cell_type": "code",
   "execution_count": 115,
   "id": "2e28ba0c-71bd-4e57-a1a8-df7bfb611452",
   "metadata": {},
   "outputs": [],
   "source": [
    "z = sp.zeros(3,7)\n",
    "z[:,0] = sp.Matrix([[0],[0],[1]])\n",
    "for i in range(1,7):\n",
    "    z[:,i] = sp.Matrix([[(a_array[i])[0,2]],[(a_array[i])[1,2]],[(a_array[i])[2,2]]])\n",
    "\n",
    "\n",
    "\n",
    "\n"
   ]
  },
  {
   "cell_type": "code",
   "execution_count": 122,
   "id": "03faf2a8-d3fe-49bc-88db-90d2c7f62b0f",
   "metadata": {},
   "outputs": [
    {
     "data": {
      "text/latex": [
       "$\\displaystyle \\left[\\begin{matrix}115.5 \\left(- \\sin{\\left(\\theta_{1} \\right)} \\sin{\\left(\\theta_{2} \\right)} \\sin{\\left(\\theta_{3} \\right)} + \\sin{\\left(\\theta_{1} \\right)} \\cos{\\left(\\theta_{2} \\right)} \\cos{\\left(\\theta_{3} \\right)}\\right) \\sin{\\left(\\theta_{4} \\right)} - 115.5 \\left(- \\sin{\\left(\\theta_{1} \\right)} \\sin{\\left(\\theta_{2} \\right)} \\cos{\\left(\\theta_{3} \\right)} - \\sin{\\left(\\theta_{1} \\right)} \\sin{\\left(\\theta_{3} \\right)} \\cos{\\left(\\theta_{2} \\right)}\\right) \\cos{\\left(\\theta_{4} \\right)} + 387.8 \\sin{\\left(\\theta_{1} \\right)} \\cos{\\left(\\theta_{2} \\right)} + 737.3 \\sin{\\left(\\theta_{1} \\right)} + 95.5 \\cos{\\left(\\theta_{1} \\right)} & - \\left(115.5 \\left(- \\sin{\\left(\\theta_{2} \\right)} \\sin{\\left(\\theta_{3} \\right)} + \\cos{\\left(\\theta_{2} \\right)} \\cos{\\left(\\theta_{3} \\right)}\\right) \\cos{\\left(\\theta_{4} \\right)} - 115.5 \\left(\\sin{\\left(\\theta_{2} \\right)} \\cos{\\left(\\theta_{3} \\right)} + \\sin{\\left(\\theta_{3} \\right)} \\cos{\\left(\\theta_{2} \\right)}\\right) \\sin{\\left(\\theta_{4} \\right)} - 387.8 \\sin{\\left(\\theta_{2} \\right)}\\right) \\cos{\\left(\\theta_{1} \\right)} & 115.5 \\left(- \\sin{\\left(\\theta_{1} \\right)} \\sin{\\left(\\theta_{2} \\right)} \\sin{\\left(\\theta_{3} \\right)} + \\sin{\\left(\\theta_{1} \\right)} \\cos{\\left(\\theta_{2} \\right)} \\cos{\\left(\\theta_{3} \\right)}\\right) \\sin{\\left(\\theta_{4} \\right)} - 115.5 \\left(- \\sin{\\left(\\theta_{1} \\right)} \\sin{\\left(\\theta_{2} \\right)} \\cos{\\left(\\theta_{3} \\right)} - \\sin{\\left(\\theta_{1} \\right)} \\sin{\\left(\\theta_{3} \\right)} \\cos{\\left(\\theta_{2} \\right)}\\right) \\cos{\\left(\\theta_{4} \\right)} + 387.8 \\sin{\\left(\\theta_{1} \\right)} \\cos{\\left(\\theta_{2} \\right)} + 95.5 \\cos{\\left(\\theta_{1} \\right)} & 115.5 \\left(- \\sin{\\left(\\theta_{1} \\right)} \\sin{\\left(\\theta_{2} \\right)} \\sin{\\left(\\theta_{3} \\right)} + \\sin{\\left(\\theta_{1} \\right)} \\cos{\\left(\\theta_{2} \\right)} \\cos{\\left(\\theta_{3} \\right)}\\right) \\sin{\\left(\\theta_{4} \\right)} - 115.5 \\left(- \\sin{\\left(\\theta_{1} \\right)} \\sin{\\left(\\theta_{2} \\right)} \\cos{\\left(\\theta_{3} \\right)} - \\sin{\\left(\\theta_{1} \\right)} \\sin{\\left(\\theta_{3} \\right)} \\cos{\\left(\\theta_{2} \\right)}\\right) \\cos{\\left(\\theta_{4} \\right)} + 95.5 \\cos{\\left(\\theta_{1} \\right)} & \\left(115.5 \\left(- \\sin{\\left(\\theta_{2} \\right)} \\sin{\\left(\\theta_{3} \\right)} + \\cos{\\left(\\theta_{2} \\right)} \\cos{\\left(\\theta_{3} \\right)}\\right) \\cos{\\left(\\theta_{4} \\right)} - 115.5 \\left(\\sin{\\left(\\theta_{2} \\right)} \\cos{\\left(\\theta_{3} \\right)} + \\sin{\\left(\\theta_{3} \\right)} \\cos{\\left(\\theta_{2} \\right)}\\right) \\sin{\\left(\\theta_{4} \\right)}\\right) \\cos{\\left(\\theta_{4} \\right)} & 0\\\\- 115.5 \\left(- \\sin{\\left(\\theta_{2} \\right)} \\sin{\\left(\\theta_{3} \\right)} \\cos{\\left(\\theta_{1} \\right)} + \\cos{\\left(\\theta_{1} \\right)} \\cos{\\left(\\theta_{2} \\right)} \\cos{\\left(\\theta_{3} \\right)}\\right) \\sin{\\left(\\theta_{4} \\right)} + 115.5 \\left(- \\sin{\\left(\\theta_{2} \\right)} \\cos{\\left(\\theta_{1} \\right)} \\cos{\\left(\\theta_{3} \\right)} - \\sin{\\left(\\theta_{3} \\right)} \\cos{\\left(\\theta_{1} \\right)} \\cos{\\left(\\theta_{2} \\right)}\\right) \\cos{\\left(\\theta_{4} \\right)} + 95.5 \\sin{\\left(\\theta_{1} \\right)} - 387.8 \\cos{\\left(\\theta_{1} \\right)} \\cos{\\left(\\theta_{2} \\right)} - 737.3 \\cos{\\left(\\theta_{1} \\right)} & - \\left(115.5 \\left(- \\sin{\\left(\\theta_{2} \\right)} \\sin{\\left(\\theta_{3} \\right)} + \\cos{\\left(\\theta_{2} \\right)} \\cos{\\left(\\theta_{3} \\right)}\\right) \\cos{\\left(\\theta_{4} \\right)} - 115.5 \\left(\\sin{\\left(\\theta_{2} \\right)} \\cos{\\left(\\theta_{3} \\right)} + \\sin{\\left(\\theta_{3} \\right)} \\cos{\\left(\\theta_{2} \\right)}\\right) \\sin{\\left(\\theta_{4} \\right)} - 387.8 \\sin{\\left(\\theta_{2} \\right)}\\right) \\sin{\\left(\\theta_{1} \\right)} & - 115.5 \\left(- \\sin{\\left(\\theta_{2} \\right)} \\sin{\\left(\\theta_{3} \\right)} \\cos{\\left(\\theta_{1} \\right)} + \\cos{\\left(\\theta_{1} \\right)} \\cos{\\left(\\theta_{2} \\right)} \\cos{\\left(\\theta_{3} \\right)}\\right) \\sin{\\left(\\theta_{4} \\right)} + 115.5 \\left(- \\sin{\\left(\\theta_{2} \\right)} \\cos{\\left(\\theta_{1} \\right)} \\cos{\\left(\\theta_{3} \\right)} - \\sin{\\left(\\theta_{3} \\right)} \\cos{\\left(\\theta_{1} \\right)} \\cos{\\left(\\theta_{2} \\right)}\\right) \\cos{\\left(\\theta_{4} \\right)} + 95.5 \\sin{\\left(\\theta_{1} \\right)} - 387.8 \\cos{\\left(\\theta_{1} \\right)} \\cos{\\left(\\theta_{2} \\right)} & - 115.5 \\left(- \\sin{\\left(\\theta_{2} \\right)} \\sin{\\left(\\theta_{3} \\right)} \\cos{\\left(\\theta_{1} \\right)} + \\cos{\\left(\\theta_{1} \\right)} \\cos{\\left(\\theta_{2} \\right)} \\cos{\\left(\\theta_{3} \\right)}\\right) \\sin{\\left(\\theta_{4} \\right)} + 115.5 \\left(- \\sin{\\left(\\theta_{2} \\right)} \\cos{\\left(\\theta_{1} \\right)} \\cos{\\left(\\theta_{3} \\right)} - \\sin{\\left(\\theta_{3} \\right)} \\cos{\\left(\\theta_{1} \\right)} \\cos{\\left(\\theta_{2} \\right)}\\right) \\cos{\\left(\\theta_{4} \\right)} + 95.5 \\sin{\\left(\\theta_{1} \\right)} & \\left(115.5 \\left(- \\sin{\\left(\\theta_{2} \\right)} \\sin{\\left(\\theta_{3} \\right)} + \\cos{\\left(\\theta_{2} \\right)} \\cos{\\left(\\theta_{3} \\right)}\\right) \\cos{\\left(\\theta_{4} \\right)} - 115.5 \\left(\\sin{\\left(\\theta_{2} \\right)} \\cos{\\left(\\theta_{3} \\right)} + \\sin{\\left(\\theta_{3} \\right)} \\cos{\\left(\\theta_{2} \\right)}\\right) \\sin{\\left(\\theta_{4} \\right)}\\right) \\sin{\\left(\\theta_{4} \\right)} & 0\\\\0 & \\left(- 115.5 \\left(- \\sin{\\left(\\theta_{1} \\right)} \\sin{\\left(\\theta_{2} \\right)} \\sin{\\left(\\theta_{3} \\right)} + \\sin{\\left(\\theta_{1} \\right)} \\cos{\\left(\\theta_{2} \\right)} \\cos{\\left(\\theta_{3} \\right)}\\right) \\sin{\\left(\\theta_{4} \\right)} + 115.5 \\left(- \\sin{\\left(\\theta_{1} \\right)} \\sin{\\left(\\theta_{2} \\right)} \\cos{\\left(\\theta_{3} \\right)} - \\sin{\\left(\\theta_{1} \\right)} \\sin{\\left(\\theta_{3} \\right)} \\cos{\\left(\\theta_{2} \\right)}\\right) \\cos{\\left(\\theta_{4} \\right)} - 387.8 \\sin{\\left(\\theta_{1} \\right)} \\cos{\\left(\\theta_{2} \\right)} - 737.3 \\sin{\\left(\\theta_{1} \\right)} - 95.5 \\cos{\\left(\\theta_{1} \\right)}\\right) \\sin{\\left(\\theta_{1} \\right)} + \\left(- 115.5 \\left(- \\sin{\\left(\\theta_{2} \\right)} \\sin{\\left(\\theta_{3} \\right)} \\cos{\\left(\\theta_{1} \\right)} + \\cos{\\left(\\theta_{1} \\right)} \\cos{\\left(\\theta_{2} \\right)} \\cos{\\left(\\theta_{3} \\right)}\\right) \\sin{\\left(\\theta_{4} \\right)} + 115.5 \\left(- \\sin{\\left(\\theta_{2} \\right)} \\cos{\\left(\\theta_{1} \\right)} \\cos{\\left(\\theta_{3} \\right)} - \\sin{\\left(\\theta_{3} \\right)} \\cos{\\left(\\theta_{1} \\right)} \\cos{\\left(\\theta_{2} \\right)}\\right) \\cos{\\left(\\theta_{4} \\right)} + 95.5 \\sin{\\left(\\theta_{1} \\right)} - 387.8 \\cos{\\left(\\theta_{1} \\right)} \\cos{\\left(\\theta_{2} \\right)} - 737.3 \\cos{\\left(\\theta_{1} \\right)}\\right) \\cos{\\left(\\theta_{1} \\right)} & 0 & 0 & - \\left(- 115.5 \\left(- \\sin{\\left(\\theta_{1} \\right)} \\sin{\\left(\\theta_{2} \\right)} \\sin{\\left(\\theta_{3} \\right)} + \\sin{\\left(\\theta_{1} \\right)} \\cos{\\left(\\theta_{2} \\right)} \\cos{\\left(\\theta_{3} \\right)}\\right) \\sin{\\left(\\theta_{4} \\right)} + 115.5 \\left(- \\sin{\\left(\\theta_{1} \\right)} \\sin{\\left(\\theta_{2} \\right)} \\cos{\\left(\\theta_{3} \\right)} - \\sin{\\left(\\theta_{1} \\right)} \\sin{\\left(\\theta_{3} \\right)} \\cos{\\left(\\theta_{2} \\right)}\\right) \\cos{\\left(\\theta_{4} \\right)}\\right) \\sin{\\left(\\theta_{4} \\right)} - \\left(- 115.5 \\left(- \\sin{\\left(\\theta_{2} \\right)} \\sin{\\left(\\theta_{3} \\right)} \\cos{\\left(\\theta_{1} \\right)} + \\cos{\\left(\\theta_{1} \\right)} \\cos{\\left(\\theta_{2} \\right)} \\cos{\\left(\\theta_{3} \\right)}\\right) \\sin{\\left(\\theta_{4} \\right)} + 115.5 \\left(- \\sin{\\left(\\theta_{2} \\right)} \\cos{\\left(\\theta_{1} \\right)} \\cos{\\left(\\theta_{3} \\right)} - \\sin{\\left(\\theta_{3} \\right)} \\cos{\\left(\\theta_{1} \\right)} \\cos{\\left(\\theta_{2} \\right)}\\right) \\cos{\\left(\\theta_{4} \\right)}\\right) \\cos{\\left(\\theta_{4} \\right)} & 0\\\\0 & \\sin{\\left(\\theta_{1} \\right)} & 0 & 0 & - \\sin{\\left(\\theta_{4} \\right)} & \\sin{\\left(\\theta_{5} \\right)}\\\\0 & - \\cos{\\left(\\theta_{1} \\right)} & 0 & 0 & \\cos{\\left(\\theta_{4} \\right)} & - \\cos{\\left(\\theta_{5} \\right)}\\\\1 & 0 & 1 & 1 & 0 & 0\\end{matrix}\\right]$"
      ],
      "text/plain": [
       "Matrix([\n",
       "[ 115.5*(-sin(theta_1)*sin(theta_2)*sin(theta_3) + sin(theta_1)*cos(theta_2)*cos(theta_3))*sin(theta_4) - 115.5*(-sin(theta_1)*sin(theta_2)*cos(theta_3) - sin(theta_1)*sin(theta_3)*cos(theta_2))*cos(theta_4) + 387.8*sin(theta_1)*cos(theta_2) + 737.3*sin(theta_1) + 95.5*cos(theta_1),                                                                                                                                                                                                                                                                                                                                                                                                                       -(115.5*(-sin(theta_2)*sin(theta_3) + cos(theta_2)*cos(theta_3))*cos(theta_4) - 115.5*(sin(theta_2)*cos(theta_3) + sin(theta_3)*cos(theta_2))*sin(theta_4) - 387.8*sin(theta_2))*cos(theta_1),  115.5*(-sin(theta_1)*sin(theta_2)*sin(theta_3) + sin(theta_1)*cos(theta_2)*cos(theta_3))*sin(theta_4) - 115.5*(-sin(theta_1)*sin(theta_2)*cos(theta_3) - sin(theta_1)*sin(theta_3)*cos(theta_2))*cos(theta_4) + 387.8*sin(theta_1)*cos(theta_2) + 95.5*cos(theta_1),  115.5*(-sin(theta_1)*sin(theta_2)*sin(theta_3) + sin(theta_1)*cos(theta_2)*cos(theta_3))*sin(theta_4) - 115.5*(-sin(theta_1)*sin(theta_2)*cos(theta_3) - sin(theta_1)*sin(theta_3)*cos(theta_2))*cos(theta_4) + 95.5*cos(theta_1),                                                                                                                                                                                                                                                                                        (115.5*(-sin(theta_2)*sin(theta_3) + cos(theta_2)*cos(theta_3))*cos(theta_4) - 115.5*(sin(theta_2)*cos(theta_3) + sin(theta_3)*cos(theta_2))*sin(theta_4))*cos(theta_4),             0],\n",
       "[-115.5*(-sin(theta_2)*sin(theta_3)*cos(theta_1) + cos(theta_1)*cos(theta_2)*cos(theta_3))*sin(theta_4) + 115.5*(-sin(theta_2)*cos(theta_1)*cos(theta_3) - sin(theta_3)*cos(theta_1)*cos(theta_2))*cos(theta_4) + 95.5*sin(theta_1) - 387.8*cos(theta_1)*cos(theta_2) - 737.3*cos(theta_1),                                                                                                                                                                                                                                                                                                                                                                                                                       -(115.5*(-sin(theta_2)*sin(theta_3) + cos(theta_2)*cos(theta_3))*cos(theta_4) - 115.5*(sin(theta_2)*cos(theta_3) + sin(theta_3)*cos(theta_2))*sin(theta_4) - 387.8*sin(theta_2))*sin(theta_1), -115.5*(-sin(theta_2)*sin(theta_3)*cos(theta_1) + cos(theta_1)*cos(theta_2)*cos(theta_3))*sin(theta_4) + 115.5*(-sin(theta_2)*cos(theta_1)*cos(theta_3) - sin(theta_3)*cos(theta_1)*cos(theta_2))*cos(theta_4) + 95.5*sin(theta_1) - 387.8*cos(theta_1)*cos(theta_2), -115.5*(-sin(theta_2)*sin(theta_3)*cos(theta_1) + cos(theta_1)*cos(theta_2)*cos(theta_3))*sin(theta_4) + 115.5*(-sin(theta_2)*cos(theta_1)*cos(theta_3) - sin(theta_3)*cos(theta_1)*cos(theta_2))*cos(theta_4) + 95.5*sin(theta_1),                                                                                                                                                                                                                                                                                        (115.5*(-sin(theta_2)*sin(theta_3) + cos(theta_2)*cos(theta_3))*cos(theta_4) - 115.5*(sin(theta_2)*cos(theta_3) + sin(theta_3)*cos(theta_2))*sin(theta_4))*sin(theta_4),             0],\n",
       "[                                                                                                                                                                                                                                                                                        0, (-115.5*(-sin(theta_1)*sin(theta_2)*sin(theta_3) + sin(theta_1)*cos(theta_2)*cos(theta_3))*sin(theta_4) + 115.5*(-sin(theta_1)*sin(theta_2)*cos(theta_3) - sin(theta_1)*sin(theta_3)*cos(theta_2))*cos(theta_4) - 387.8*sin(theta_1)*cos(theta_2) - 737.3*sin(theta_1) - 95.5*cos(theta_1))*sin(theta_1) + (-115.5*(-sin(theta_2)*sin(theta_3)*cos(theta_1) + cos(theta_1)*cos(theta_2)*cos(theta_3))*sin(theta_4) + 115.5*(-sin(theta_2)*cos(theta_1)*cos(theta_3) - sin(theta_3)*cos(theta_1)*cos(theta_2))*cos(theta_4) + 95.5*sin(theta_1) - 387.8*cos(theta_1)*cos(theta_2) - 737.3*cos(theta_1))*cos(theta_1),                                                                                                                                                                                                                                                                    0,                                                                                                                                                                                                                                  0, -(-115.5*(-sin(theta_1)*sin(theta_2)*sin(theta_3) + sin(theta_1)*cos(theta_2)*cos(theta_3))*sin(theta_4) + 115.5*(-sin(theta_1)*sin(theta_2)*cos(theta_3) - sin(theta_1)*sin(theta_3)*cos(theta_2))*cos(theta_4))*sin(theta_4) - (-115.5*(-sin(theta_2)*sin(theta_3)*cos(theta_1) + cos(theta_1)*cos(theta_2)*cos(theta_3))*sin(theta_4) + 115.5*(-sin(theta_2)*cos(theta_1)*cos(theta_3) - sin(theta_3)*cos(theta_1)*cos(theta_2))*cos(theta_4))*cos(theta_4),             0],\n",
       "[                                                                                                                                                                                                                                                                                        0,                                                                                                                                                                                                                                                                                                                                                                                                                                                                                                                                                                                                        sin(theta_1),                                                                                                                                                                                                                                                                    0,                                                                                                                                                                                                                                  0,                                                                                                                                                                                                                                                                                                                                                                                                                                                  -sin(theta_4),  sin(theta_5)],\n",
       "[                                                                                                                                                                                                                                                                                        0,                                                                                                                                                                                                                                                                                                                                                                                                                                                                                                                                                                                                       -cos(theta_1),                                                                                                                                                                                                                                                                    0,                                                                                                                                                                                                                                  0,                                                                                                                                                                                                                                                                                                                                                                                                                                                   cos(theta_4), -cos(theta_5)],\n",
       "[                                                                                                                                                                                                                                                                                        1,                                                                                                                                                                                                                                                                                                                                                                                                                                                                                                                                                                                                                   0,                                                                                                                                                                                                                                                                    1,                                                                                                                                                                                                                                  1,                                                                                                                                                                                                                                                                                                                                                                                                                                                              0,             0]])"
      ]
     },
     "execution_count": 122,
     "metadata": {},
     "output_type": "execute_result"
    }
   ],
   "source": [
    "j = sp.zeros(6,6)\n",
    "for i in range(0,6):\n",
    "    j[:,i] = sp.Matrix([[(z.col(i)).cross((O.col(6))-(O.col(i)))],[z.col(i)]])\n",
    "j"
   ]
  },
  {
   "cell_type": "code",
   "execution_count": 148,
   "id": "57c29ba2-228c-4dc7-8afb-f5c0e122f47a",
   "metadata": {},
   "outputs": [],
   "source": [
    "increment = 0.1\n",
    "path1_duration = 3.3\n",
    "path1_arraysize=int(path1_duration/increment)\n",
    "path1_time = np.arange(0, path1_duration, increment)\n",
    "path1_theta1_array = [0]*path1_arraysize #link 1 angle array\n",
    "path1_theta2_array = [0]*path1_arraysize #link 2 angle array\n",
    "path1_theta3_array = [0]*path1_arraysize #link 3 angle array\n",
    "path1_theta4_array = [0]*path1_arraysize\n",
    "path1_theta5_array = [0]*path1_arraysize\n",
    "path1_theta6_array = [0]*path1_arraysize\n",
    "\n",
    "\n",
    "\n"
   ]
  },
  {
   "cell_type": "code",
   "execution_count": null,
   "id": "318cb7d3-dc86-4d35-968a-caffef9cabe4",
   "metadata": {},
   "outputs": [],
   "source": [
    "\n"
   ]
  },
  {
   "cell_type": "code",
   "execution_count": 149,
   "id": "f79f2864-de11-43c0-b3b8-0d0ac357e124",
   "metadata": {},
   "outputs": [],
   "source": [
    "jinv_initial = (j.subs([(t1,0),(t2,0),(t3,0),(t4,0),(t5,0),(t6,0)])).pinv()\n",
    "path1_xdot = sp.Matrix([[-14.488],[-1.499],[-22.155],[0],[0],[0]])\n",
    "path1_thetadot_initial = jinv_initial*path1_xdot"
   ]
  },
  {
   "cell_type": "code",
   "execution_count": 150,
   "id": "8bc2f32e-9fff-4021-a1f5-5510a4ae655e",
   "metadata": {},
   "outputs": [],
   "source": [
    "path1_thetadot1_array = [(path1_thetadot_initial[0])]*path1_arraysize \n",
    "path1_thetadot2_array = [(path1_thetadot_initial[1])]*path1_arraysize \n",
    "path1_thetadot3_array = [(path1_thetadot_initial[2])]*path1_arraysize \n",
    "path1_thetadot4_array = [(path1_thetadot_initial[3])]*path1_arraysize \n",
    "path1_thetadot5_array = [(path1_thetadot_initial[4])]*path1_arraysize \n",
    "path1_thetadot6_array = [(path1_thetadot_initial[5])]*path1_arraysize \n",
    "\n",
    "path1_x_initial = 0\n",
    "path1_y_initial = -217.3\n",
    "path1_z_initial = 1423.91\n",
    "\n",
    "\n",
    "path1_x_array = [path1_x_initial]*path1_arraysize #end effector x position array\n",
    "path1_y_array = [path1_y_initial]*path1_arraysize #end effector y position array\n",
    "path1_xdot_array = [path1_xdot[0]]*path1_arraysize #end effector x speed array\n",
    "path1_ydot_array = [path1_xdot[1]]*path1_arraysize #end effector y speed array\n",
    "path1_zdot_array = [path1_xdot[2]]*path1_arraysize"
   ]
  },
  {
   "cell_type": "code",
   "execution_count": 153,
   "id": "c3c381d3-e4bd-4402-978e-986a5e5bea5f",
   "metadata": {},
   "outputs": [],
   "source": [
    "for i in range(1, path1_arraysize):\n",
    "    path1_theta1_array[i] = path1_theta1_array[i-1]+(path1_thetadot1_array[i-1]*increment)\n",
    "    path1_theta2_array[i] = path1_theta2_array[i-1]+(path1_thetadot2_array[i-1]*increment)\n",
    "    path1_theta3_array[i] = path1_theta3_array[i-1]+(path1_thetadot3_array[i-1]*increment)\n",
    "    path1_theta4_array[i] = path1_theta4_array[i-1]+(path1_thetadot4_array[i-1]*increment)\n",
    "    path1_theta5_array[i] = path1_theta5_array[i-1]+(path1_thetadot5_array[i-1]*increment)\n",
    "    path1_theta6_array[i] = path1_theta6_array[i-1]+(path1_thetadot6_array[i-1]*increment)\n",
    "    jsubs = j.subs([(t1,path1_theta1_array[i]),(t2,path1_theta2_array[i]),(t3,path1_theta3_array[i]),(t4,path1_theta4_array[i]),(t5,path1_theta5_array[i]),(t6,path1_theta6_array[i])])\n",
    "    jinv = jsubs.pinv()\n",
    "    thetadot = jinv*xdot\n",
    "    path1_thetadot1_array[i] = thetadot[0]\n",
    "    path1_thetadot2_array[i] = thetadot[1]\n",
    "    path1_thetadot3_array[i] = thetadot[2]\n",
    "    path1_thetadot4_array[i] = thetadot[3]\n",
    "    path1_thetadot5_array[i] = thetadot[4]\n",
    "    path1_thetadot6_array[i] = thetadot[5]\n",
    "\n"
   ]
  },
  {
   "cell_type": "code",
   "execution_count": 154,
   "id": "2a7d11f7-04e1-48d3-841c-d97070876a67",
   "metadata": {},
   "outputs": [],
   "source": [
    "#PATH 2"
   ]
  },
  {
   "cell_type": "code",
   "execution_count": 155,
   "id": "a858b3cc-d150-4526-b464-b513ecacf62c",
   "metadata": {},
   "outputs": [],
   "source": [
    "increment = 0.1\n",
    "path2_duration = 9.2\n",
    "path2_arraysize=int(path2_duration/increment)\n",
    "path2_time = np.arange(3.3, path2_duration, increment)\n",
    "path2_theta1_array = [path1_theta1_array[-1]]*path2_arraysize #link 1 angle array\n",
    "path2_theta2_array = [path1_theta2_array[-1]]*path2_arraysize #link 2 angle array\n",
    "path2_theta3_array = [path1_theta3_array[-1]]*path2_arraysize #link 3 angle array\n",
    "path2_theta4_array = [path1_theta4_array[-1]]*path2_arraysize\n",
    "path2_theta5_array = [path1_theta5_array[-1]]*path2_arraysize\n",
    "path2_theta6_array = [path1_theta6_array[-1]]*path2_arraysize"
   ]
  },
  {
   "cell_type": "code",
   "execution_count": 156,
   "id": "36204e0c-25dd-4bf7-bb6d-a1764f86aecc",
   "metadata": {},
   "outputs": [],
   "source": [
    "t = sp.Symbol('t')\n",
    "jinv_initial = (j.subs([(t1,path2_theta1_array[0]),(t2,path2_theta2_array[0]),(t3,path2_theta3_array[0]),(t4,path2_theta4_array[0]),(t5,path2_theta5_array[0]),(t6,path2_theta6_array[0])])).pinv()\n",
    "path2_xdot = sp.diff(50*sp.cos((sp.pi*t)/5.863))\n",
    "path2_ydot = 0\n",
    "path2_zdot = sp.diff(50*sp.sin((sp.pi*t)/5.863))\n",
    "path2_XDOT = sp.Matrix([[path2_xdot],[path2_ydot],[path2_zdot],[0],[0],[0]])\n",
    "path2_thetadot_initial = jinv_initial*path2_XDOT"
   ]
  },
  {
   "cell_type": "code",
   "execution_count": 158,
   "id": "f4234323-fbb3-46fc-b840-9080cba82114",
   "metadata": {},
   "outputs": [],
   "source": [
    "path2_thetadot1_array = [(path2_thetadot_initial[0])]*path2_arraysize\n",
    "path2_thetadot2_array = [(path2_thetadot_initial[1])]*path2_arraysize\n",
    "path2_thetadot3_array = [(path2_thetadot_initial[2])]*path2_arraysize\n",
    "path2_thetadot4_array = [(path2_thetadot_initial[3])]*path2_arraysize \n",
    "path2_thetadot5_array = [(path2_thetadot_initial[4])]*path2_arraysize\n",
    "path2_thetadot6_array = [(path2_thetadot_initial[5])]*path2_arraysize \n",
    "\n",
    "path2_x_initial = -50\n",
    "path2_y_initial = -222.3\n",
    "path2_z_initial = 1350\n",
    "\n",
    "\n",
    "path2_x_array = [path2_x_initial]*path2_arraysize #end effector x position array\n",
    "path2_y_array = [path2_y_initial]*path2_arraysize #end effector y position array\n",
    "path2_xdot_array = [path2_XDOT[0]]*path2_arraysize #end effector x speed array\n",
    "path2_ydot_array = [path2_XDOT[1]]*path2_arraysize #end effector y speed array\n",
    "path2_zdot_array = [path2_XDOT[2]]*path2_arraysize"
   ]
  },
  {
   "cell_type": "code",
   "execution_count": null,
   "id": "b592bdc9-5b54-4534-ad60-51d1b61b1dfb",
   "metadata": {},
   "outputs": [],
   "source": [
    "for i in range(1, path2_arraysize):\n",
    "    path2_theta1_array[i] = path2_theta1_array[i-1]+(path2_thetadot1_array[i-1]*increment)\n",
    "    path2_theta2_array[i] = path2_theta2_array[i-1]+(path2_thetadot2_array[i-1]*increment)\n",
    "    path2_theta3_array[i] = path2_theta3_array[i-1]+(path2_thetadot3_array[i-1]*increment)\n",
    "    path2_theta4_array[i] = path2_theta4_array[i-1]+(path2_thetadot4_array[i-1]*increment)\n",
    "    path2_theta5_array[i] = path2_theta5_array[i-1]+(path2_thetadot5_array[i-1]*increment)\n",
    "    path2_theta6_array[i] = path2_theta6_array[i-1]+(path2_thetadot6_array[i-1]*increment)\n",
    "    jsubs = j.subs([(t1,path2_theta1_array[i]),(t2,path2_theta2_array[i]),(t3,path2_theta3_array[i]),(t4,path2_theta4_array[i]),(t5,path2_theta5_array[i]),(t6,path2_theta6_array[i]),(t, path2_time[i])])\n",
    "    jinv = jsubs.pinv()\n",
    "    thetadot = jinv*xdot\n",
    "    path2_thetadot1_array[i] = thetadot[0]\n",
    "    path2_thetadot2_array[i] = thetadot[1]\n",
    "    path2_thetadot3_array[i] = thetadot[2]\n",
    "    path2_thetadot4_array[i] = thetadot[3]\n",
    "    path2_thetadot5_array[i] = thetadot[4]\n",
    "    path2_thetadot6_array[i] = thetadot[5]"
   ]
  },
  {
   "cell_type": "code",
   "execution_count": null,
   "id": "fa16816b-6d0a-4b70-a5a3-1f42af0f2e66",
   "metadata": {},
   "outputs": [],
   "source": []
  }
 ],
 "metadata": {
  "kernelspec": {
   "display_name": "Python 3 (ipykernel)",
   "language": "python",
   "name": "python3"
  },
  "language_info": {
   "codemirror_mode": {
    "name": "ipython",
    "version": 3
   },
   "file_extension": ".py",
   "mimetype": "text/x-python",
   "name": "python",
   "nbconvert_exporter": "python",
   "pygments_lexer": "ipython3",
   "version": "3.10.12"
  }
 },
 "nbformat": 4,
 "nbformat_minor": 5
}
