{
 "cells": [
  {
   "cell_type": "code",
   "execution_count": 55,
   "metadata": {},
   "outputs": [],
   "source": [
    "import sympy as sp\n",
    "import numpy as np\n",
    "import matplotlib.pyplot as plt\n",
    "from mpl_toolkits.mplot3d import Axes3D\n",
    "import pandas as pd"
   ]
  },
  {
   "cell_type": "code",
   "execution_count": 56,
   "metadata": {},
   "outputs": [],
   "source": [
    "d1 = 183.3 #joint 1 height [mm]\n",
    "d2 = 737.31 #joint 2 radius [mm]\n",
    "d3 = 387.8 #joint 3 radius [mm]\n",
    "d4 = 95.5 #joint 4 radius [mm]\n",
    "d5 = 115.5 #joint 5 radius [mm]\n",
    "d6 = 76.8 #end effector offset\n",
    "q = sp.pi/2 #standard 90 degree angle\n",
    "\n"
   ]
  },
  {
   "cell_type": "code",
   "execution_count": 57,
   "metadata": {},
   "outputs": [],
   "source": [
    "#Initialize symbols\n",
    "thetai = sp.Symbol('theta_i')\n",
    "\n",
    "t = sp.Symbol('t')\n",
    "ai = sp.Symbol('a_i')\n",
    "di = sp.Symbol('d_i')\n",
    "alphai = sp.Symbol('alpha_i')\n",
    "pi = sp.Symbol('pi')"
   ]
  },
  {
   "cell_type": "code",
   "execution_count": 58,
   "metadata": {},
   "outputs": [],
   "source": [
    "thetas = sp.symbols('theta_1:7')\n",
    "dh_theta = [thetas[0], thetas[1]+q, thetas[2], thetas[3]+q, thetas[4], thetas[5]]\n",
    "dh_a = [0, d2, d3, 0, 0, 0]\n",
    "dh_d = [d1, 0, 0, d4, d5, d6]\n",
    "dh_alpha = [q, 0, 0, q, -q, 0]"
   ]
  },
  {
   "cell_type": "code",
   "execution_count": 59,
   "metadata": {},
   "outputs": [
    {
     "data": {
      "text/html": [
       "<div>\n",
       "<style scoped>\n",
       "    .dataframe tbody tr th:only-of-type {\n",
       "        vertical-align: middle;\n",
       "    }\n",
       "\n",
       "    .dataframe tbody tr th {\n",
       "        vertical-align: top;\n",
       "    }\n",
       "\n",
       "    .dataframe thead th {\n",
       "        text-align: right;\n",
       "    }\n",
       "</style>\n",
       "<table border=\"1\" class=\"dataframe\">\n",
       "  <thead>\n",
       "    <tr style=\"text-align: right;\">\n",
       "      <th></th>\n",
       "      <th></th>\n",
       "      <th>theta_i</th>\n",
       "      <th>a_i</th>\n",
       "      <th>d_i</th>\n",
       "      <th>alpha_i</th>\n",
       "    </tr>\n",
       "  </thead>\n",
       "  <tbody>\n",
       "    <tr>\n",
       "      <th>0</th>\n",
       "      <td>to 1</td>\n",
       "      <td>theta_1</td>\n",
       "      <td>0.00</td>\n",
       "      <td>183.3</td>\n",
       "      <td>pi/2</td>\n",
       "    </tr>\n",
       "    <tr>\n",
       "      <th>1</th>\n",
       "      <td>to 2</td>\n",
       "      <td>theta_2 + pi/2</td>\n",
       "      <td>737.31</td>\n",
       "      <td>0.0</td>\n",
       "      <td>0</td>\n",
       "    </tr>\n",
       "    <tr>\n",
       "      <th>2</th>\n",
       "      <td>to 3</td>\n",
       "      <td>theta_3</td>\n",
       "      <td>387.80</td>\n",
       "      <td>0.0</td>\n",
       "      <td>0</td>\n",
       "    </tr>\n",
       "    <tr>\n",
       "      <th>3</th>\n",
       "      <td>to 4</td>\n",
       "      <td>theta_4 + pi/2</td>\n",
       "      <td>0.00</td>\n",
       "      <td>95.5</td>\n",
       "      <td>pi/2</td>\n",
       "    </tr>\n",
       "    <tr>\n",
       "      <th>4</th>\n",
       "      <td>to 5</td>\n",
       "      <td>theta_5</td>\n",
       "      <td>0.00</td>\n",
       "      <td>115.5</td>\n",
       "      <td>-pi/2</td>\n",
       "    </tr>\n",
       "    <tr>\n",
       "      <th>5</th>\n",
       "      <td>to 6</td>\n",
       "      <td>theta_6</td>\n",
       "      <td>0.00</td>\n",
       "      <td>76.8</td>\n",
       "      <td>0</td>\n",
       "    </tr>\n",
       "  </tbody>\n",
       "</table>\n",
       "</div>"
      ],
      "text/plain": [
       "                theta_i     a_i    d_i alpha_i\n",
       "0  to 1         theta_1    0.00  183.3    pi/2\n",
       "1  to 2  theta_2 + pi/2  737.31    0.0       0\n",
       "2  to 3         theta_3  387.80    0.0       0\n",
       "3  to 4  theta_4 + pi/2    0.00   95.5    pi/2\n",
       "4  to 5         theta_5    0.00  115.5   -pi/2\n",
       "5  to 6         theta_6    0.00   76.8       0"
      ]
     },
     "execution_count": 59,
     "metadata": {},
     "output_type": "execute_result"
    }
   ],
   "source": [
    "#Create dh table based on chosen coordinate frames\n",
    "\n",
    "dh_table = {\n",
    "    \"\": [\"to 1\", \"to 2\", \"to 3\", \"to 4\", \"to 5\", \"to 6\"],\n",
    "    thetai: [dh_theta[0],dh_theta[1],dh_theta[2],dh_theta[3],dh_theta[4],dh_theta[5]],\n",
    "    ai: [dh_a[0],dh_a[1],dh_a[2],dh_a[3],dh_a[4],dh_a[5]],\n",
    "    di: [dh_d[0],dh_d[1],dh_d[2],dh_d[3],dh_d[4],dh_d[5]],\n",
    "    alphai: [dh_alpha[0],dh_alpha[1],dh_alpha[2],dh_alpha[3],dh_alpha[4],dh_alpha[5]]\n",
    "\n",
    "}\n",
    "\n",
    "df = pd.DataFrame(dh_table)\n",
    "df"
   ]
  },
  {
   "cell_type": "code",
   "execution_count": 60,
   "metadata": {},
   "outputs": [],
   "source": [
    "A_array = [sp.zeros(4,4)]*6\n",
    "for i in range(0,6):\n",
    "    A_array[i] = sp.Matrix([\n",
    "        [sp.cos(dh_theta[i]),-sp.sin(dh_theta[i])*sp.cos(dh_alpha[i]),sp.sin(dh_theta[i])*sp.sin(dh_alpha[i]),dh_a[i]*sp.cos(dh_theta[i])],\n",
    "        [sp.sin(dh_theta[i]),sp.cos(dh_theta[i])*sp.cos(dh_alpha[i]),-sp.cos(dh_theta[i])*sp.sin(dh_alpha[i]),dh_a[i]*sp.sin(dh_theta[i])],\n",
    "        [0,sp.sin(dh_alpha[i]),sp.cos(dh_alpha[i]),dh_d[i]],\n",
    "        [0,0,0,1]\n",
    "    ])\n",
    "\n",
    "A_final = A_array[0]\n",
    "for i in range(1,6):\n",
    "    A_final = A_final*A_array[i]\n",
    "\n",
    "A_products = [A_array[0]]*6\n",
    "for i in range(1,6):\n",
    "    A_products[i] = A_products[i-1]*A_array[i]\n",
    "\n"
   ]
  },
  {
   "cell_type": "code",
   "execution_count": 61,
   "metadata": {},
   "outputs": [],
   "source": [
    "def subs_function(matrix,sub_values):\n",
    "    result = matrix.subs([\n",
    "        (thetas[0],sub_values[0]),\n",
    "        (thetas[1],sub_values[1]),\n",
    "        (thetas[2],sub_values[2]),\n",
    "        (thetas[3],sub_values[3]),\n",
    "        (thetas[4],sub_values[4]),\n",
    "        (thetas[5],sub_values[5])     \n",
    "    ])\n",
    "    return result\n",
    "\n",
    "def subs_position_vector(matrix,sub_values):\n",
    "    msubs = matrix.subs([\n",
    "        (thetas[0],sub_values[0]),\n",
    "        (thetas[1],sub_values[1]),\n",
    "        (thetas[2],sub_values[2]),\n",
    "        (thetas[3],sub_values[3]),\n",
    "        (thetas[4],sub_values[4]),\n",
    "        (thetas[5],sub_values[5])   \n",
    "    ])\n",
    "    result = sp.Matrix([\n",
    "        [msubs[0,3]],\n",
    "        [msubs[1,3]],\n",
    "        [msubs[2,3]],\n",
    "        [0],\n",
    "        [0],\n",
    "        [0]\n",
    "    ])\n",
    "    return result\n"
   ]
  },
  {
   "cell_type": "code",
   "execution_count": 62,
   "metadata": {},
   "outputs": [
    {
     "name": "stdout",
     "output_type": "stream",
     "text": [
      "Transformation matrix validation\n",
      "---------------\n",
      "start position\n",
      "x =  0 y =  -172.30 z =  1423.91\n",
      "---------------\n",
      "first joint rotated 90 degrees\n",
      "x =  172.30 y =  0 z =  1423.91\n",
      "---------------\n",
      "shoulder rotated 90 degrees\n",
      "x =  -1240.61 y =  -172.30 z =  183.30\n",
      "---------------\n",
      "elbow rotated 90 degrees\n",
      "x =  -503.30 y =  -172.30 z =  920.61\n",
      "---------------\n",
      "wrist rotated 90 degrees\n",
      "x =  -115.50 y =  -172.30 z =  1308.41\n"
     ]
    }
   ],
   "source": [
    "\n",
    "\n",
    "#Validate transformation matrix:\n",
    "\n",
    "val_matrix = sp.Matrix([\n",
    "    [0, q, 0, 0, 0],\n",
    "    [0, 0, q, 0, 0],\n",
    "    [0, 0, 0, q, 0],\n",
    "    [0, 0, 0, 0, q],\n",
    "    [0, 0, 0, 0, 0],\n",
    "    [0, 0, 0, 0, 0]\n",
    "])\n",
    "\n",
    "A_vals = [sp.zeros(4,4)]*5\n",
    "for i in range(0,5):\n",
    "    A_vals[i] = subs_function(A_final,val_matrix[:,i])\n",
    "\n",
    "\n",
    "pos_vals = [\"start position\",\"first joint rotated 90 degrees\",\"shoulder rotated 90 degrees\",\"elbow rotated 90 degrees\",\"wrist rotated 90 degrees\"]\n",
    "print(\"Transformation matrix validation\")\n",
    "for i in range(0,5):\n",
    "    print(\"---------------\")\n",
    "    print(pos_vals[i])\n",
    "    print(\n",
    "        \"x = \",((A_vals[i])[0,3]).round(2),\n",
    "        \"y = \",((A_vals[i])[1,3]).round(2),\n",
    "        \"z = \",((A_vals[i])[2,3]).round(2))\n",
    "\n",
    "\n"
   ]
  },
  {
   "cell_type": "code",
   "execution_count": 63,
   "metadata": {},
   "outputs": [],
   "source": [
    "thetas_vector = sp.Matrix([thetas[0],thetas[1],thetas[2],thetas[3],thetas[4],thetas[5]])\n",
    "\n",
    "P = sp.Matrix([A_final[0,3],A_final[1,3],A_final[2,3]])\n",
    "\n",
    "Jv = P.jacobian(thetas_vector)\n",
    "Z = sp.zeros(3,6)\n",
    "\n",
    "for c in range(0,6):\n",
    "    for r in range(0,3):\n",
    "        Z[r,c] = (A_products[c])[r,2]\n",
    "\n",
    "\n",
    "J = sp.zeros(6,6)\n",
    "for c in range(0,6):\n",
    "    for r in range(0,3):\n",
    "        J[r,c] = Jv[r,c]\n",
    "        J[r+3,c] = Z[r,c]\n",
    "\n",
    "\n"
   ]
  },
  {
   "cell_type": "code",
   "execution_count": 64,
   "metadata": {},
   "outputs": [],
   "source": [
    "#initialize inputs\n",
    "increment = 0.1 #time increment [s]\n",
    "duration = 5 #total time [s]\n",
    "arraysize = int(duration/increment) \n",
    "time = np.arange(0, duration, increment) #time array\n",
    "\n",
    "#initial end effector posiitons with respect to base frame [mm]\n",
    "ee_x_initial = 0 \n",
    "ee_y_initial = -172.3\n",
    "ee_z_initial = d1+d2+d3+d5\n",
    "\n",
    "#Separate end effector path into 6 paths\n",
    "path1_x_final = 0 #start position x of drawn shape\n",
    "path1_y_final = -172.3 #start position y of drawn shape\n",
    "path1_z_final = ee_z_initial-50 #start position z of drawn shape\n",
    "\n",
    "#calculate distances traveled during paths\n",
    "\n",
    "\n",
    "#calculate time taken for each path\n",
    "\n",
    "\n",
    "#calculate start time of each path\n",
    "\n",
    "\n",
    "\n"
   ]
  },
  {
   "cell_type": "code",
   "execution_count": 65,
   "metadata": {},
   "outputs": [],
   "source": [
    "\n",
    "#calculate path1 velocities from path 1 time and distance\n",
    "velocity_matrix = sp.Matrix([0,0,-50/5,0,0,0])\n",
    "\n",
    "\n"
   ]
  },
  {
   "cell_type": "code",
   "execution_count": 66,
   "metadata": {},
   "outputs": [],
   "source": [
    "from sympy import pprint\n",
    "\n"
   ]
  },
  {
   "cell_type": "code",
   "execution_count": 67,
   "metadata": {},
   "outputs": [
    {
     "data": {
      "text/latex": [
       "$\\displaystyle \\left[\\begin{matrix}-2541.34772752892\\\\-8472.91695116742\\\\11014.2646786963\\\\-1.65436122510606 \\cdot 10^{-23}\\\\-58987.3941740761\\\\58987.3941740761\\end{matrix}\\right]$"
      ],
      "text/plain": [
       "Matrix([\n",
       "[    -2541.34772752892],\n",
       "[    -8472.91695116742],\n",
       "[     11014.2646786963],\n",
       "[-1.65436122510606e-23],\n",
       "[    -58987.3941740761],\n",
       "[     58987.3941740761]])"
      ]
     },
     "execution_count": 67,
     "metadata": {},
     "output_type": "execute_result"
    }
   ],
   "source": [
    "#calculate initial inverse jacobian to obtain initial thetadot values\n",
    "almost_zeros = sp.Matrix([0.000001,0.000001,0.000001,0.000001,0.000001,0.000001])\n",
    "\n",
    "jinv_initial = (subs_function(J,almost_zeros)).inv()\n",
    "thetadot_initial = jinv_initial*velocity_matrix\n",
    "thetadot_initial\n",
    "\n",
    "# thetadot_initial = jinv_initial*XDOT[:,0] #initial thetadot values\n",
    "\n",
    "# thetadot_initial\n",
    "\n",
    "\n",
    "\n",
    "\n",
    "\n",
    "\n",
    "\n",
    "\n",
    "\n",
    "\n",
    "\n"
   ]
  },
  {
   "cell_type": "code",
   "execution_count": 68,
   "metadata": {},
   "outputs": [
    {
     "data": {
      "text/latex": [
       "$\\displaystyle \\left[\\begin{array}{cccccccccccccccccccccccccccccccccccccccccccccccccc}-2541.34772752892 & -0.00805258873042435 & 0 & 0 & 0 & 0 & 0 & 0 & 0 & 0 & 0 & 0 & 0 & 0 & 0 & 0 & 0 & 0 & 0 & 0 & 0 & 0 & 0 & 0 & 0 & 0 & 0 & 0 & 0 & 0 & 0 & 0 & 0 & 0 & 0 & 0 & 0 & 0 & 0 & 0 & 0 & 0 & 0 & 0 & 0 & 0 & 0 & 0 & 0 & 0\\\\-8472.91695116742 & 0.0121256731140964 & 0 & 0 & 0 & 0 & 0 & 0 & 0 & 0 & 0 & 0 & 0 & 0 & 0 & 0 & 0 & 0 & 0 & 0 & 0 & 0 & 0 & 0 & 0 & 0 & 0 & 0 & 0 & 0 & 0 & 0 & 0 & 0 & 0 & 0 & 0 & 0 & 0 & 0 & 0 & 0 & 0 & 0 & 0 & 0 & 0 & 0 & 0 & 0\\\\11014.2646786963 & -0.00407308438367209 & 0 & 0 & 0 & 0 & 0 & 0 & 0 & 0 & 0 & 0 & 0 & 0 & 0 & 0 & 0 & 0 & 0 & 0 & 0 & 0 & 0 & 0 & 0 & 0 & 0 & 0 & 0 & 0 & 0 & 0 & 0 & 0 & 0 & 0 & 0 & 0 & 0 & 0 & 0 & 0 & 0 & 0 & 0 & 0 & 0 & 0 & 0 & 0\\\\-1.65436122510606 \\cdot 10^{-23} & 4.33680868994202 \\cdot 10^{-18} & 0 & 0 & 0 & 0 & 0 & 0 & 0 & 0 & 0 & 0 & 0 & 0 & 0 & 0 & 0 & 0 & 0 & 0 & 0 & 0 & 0 & 0 & 0 & 0 & 0 & 0 & 0 & 0 & 0 & 0 & 0 & 0 & 0 & 0 & 0 & 0 & 0 & 0 & 0 & 0 & 0 & 0 & 0 & 0 & 0 & 0 & 0 & 0\\\\-58987.3941740761 & -0.0940712395893887 & 0 & 0 & 0 & 0 & 0 & 0 & 0 & 0 & 0 & 0 & 0 & 0 & 0 & 0 & 0 & 0 & 0 & 0 & 0 & 0 & 0 & 0 & 0 & 0 & 0 & 0 & 0 & 0 & 0 & 0 & 0 & 0 & 0 & 0 & 0 & 0 & 0 & 0 & 0 & 0 & 0 & 0 & 0 & 0 & 0 & 0 & 0 & 0\\\\58987.3941740761 & 0.0940712395893887 & 0 & 0 & 0 & 0 & 0 & 0 & 0 & 0 & 0 & 0 & 0 & 0 & 0 & 0 & 0 & 0 & 0 & 0 & 0 & 0 & 0 & 0 & 0 & 0 & 0 & 0 & 0 & 0 & 0 & 0 & 0 & 0 & 0 & 0 & 0 & 0 & 0 & 0 & 0 & 0 & 0 & 0 & 0 & 0 & 0 & 0 & 0 & 0\\end{array}\\right]$"
      ],
      "text/plain": [
       "Matrix([\n",
       "[    -2541.34772752892, -0.00805258873042435, 0, 0, 0, 0, 0, 0, 0, 0, 0, 0, 0, 0, 0, 0, 0, 0, 0, 0, 0, 0, 0, 0, 0, 0, 0, 0, 0, 0, 0, 0, 0, 0, 0, 0, 0, 0, 0, 0, 0, 0, 0, 0, 0, 0, 0, 0, 0, 0],\n",
       "[    -8472.91695116742,   0.0121256731140964, 0, 0, 0, 0, 0, 0, 0, 0, 0, 0, 0, 0, 0, 0, 0, 0, 0, 0, 0, 0, 0, 0, 0, 0, 0, 0, 0, 0, 0, 0, 0, 0, 0, 0, 0, 0, 0, 0, 0, 0, 0, 0, 0, 0, 0, 0, 0, 0],\n",
       "[     11014.2646786963, -0.00407308438367209, 0, 0, 0, 0, 0, 0, 0, 0, 0, 0, 0, 0, 0, 0, 0, 0, 0, 0, 0, 0, 0, 0, 0, 0, 0, 0, 0, 0, 0, 0, 0, 0, 0, 0, 0, 0, 0, 0, 0, 0, 0, 0, 0, 0, 0, 0, 0, 0],\n",
       "[-1.65436122510606e-23, 4.33680868994202e-18, 0, 0, 0, 0, 0, 0, 0, 0, 0, 0, 0, 0, 0, 0, 0, 0, 0, 0, 0, 0, 0, 0, 0, 0, 0, 0, 0, 0, 0, 0, 0, 0, 0, 0, 0, 0, 0, 0, 0, 0, 0, 0, 0, 0, 0, 0, 0, 0],\n",
       "[    -58987.3941740761,  -0.0940712395893887, 0, 0, 0, 0, 0, 0, 0, 0, 0, 0, 0, 0, 0, 0, 0, 0, 0, 0, 0, 0, 0, 0, 0, 0, 0, 0, 0, 0, 0, 0, 0, 0, 0, 0, 0, 0, 0, 0, 0, 0, 0, 0, 0, 0, 0, 0, 0, 0],\n",
       "[     58987.3941740761,   0.0940712395893887, 0, 0, 0, 0, 0, 0, 0, 0, 0, 0, 0, 0, 0, 0, 0, 0, 0, 0, 0, 0, 0, 0, 0, 0, 0, 0, 0, 0, 0, 0, 0, 0, 0, 0, 0, 0, 0, 0, 0, 0, 0, 0, 0, 0, 0, 0, 0, 0]])"
      ]
     },
     "execution_count": 68,
     "metadata": {},
     "output_type": "execute_result"
    }
   ],
   "source": [
    "#PATH1\n",
    "#initialize theta/thetadot arrays with zeros\n",
    "THETA_path1 = sp.zeros(6,arraysize)\n",
    "THETADOT_path1 = sp.zeros(6,arraysize)\n",
    "\n",
    "\n",
    "THETA_path1[:,0] = almost_zeros\n",
    "THETADOT_path1[:,0] = thetadot_initial #populate thetadot with initial values\n",
    "\n",
    "for r in range(0,6):\n",
    "    THETA_path1[r,1] = (THETA_path1[r,1-1]+((THETADOT_path1[r,1-1])*increment))\n",
    "THETA_path1\n",
    "JSUBS = subs_function(J,THETA_path1.col(1))\n",
    "jinv = JSUBS.inv()\n",
    "thetadot = jinv*velocity_matrix\n",
    "thetadot\n",
    "for i in range(0,6):\n",
    "    THETADOT_path1[i,1] = thetadot[i]\n",
    "THETADOT_path1\n",
    "\n",
    "\n",
    "#JSUBS = subs_function(J,THETA_path1.col(1))\n",
    "\n",
    "# for c in range(1,arraysize):\n",
    "#     for r in range(0,6):\n",
    "#         THETA_path1[r,c] = (THETA_path1[r,c-1]+((THETADOT_path1[r,c-1])*increment))\n",
    "\n",
    "#     JSUBS = subs_function(J,THETA_path1.col(c))\n",
    "    \n",
    "#     jinv = JSUBS.inv()\n",
    "#     thetadot = jinv*velocity_matrix\n",
    "    \n",
    "#     for i in range(0,6):\n",
    "#         THETADOT_path1[r,c] = thetadot[r]\n",
    "\n",
    "\n"
   ]
  },
  {
   "cell_type": "code",
   "execution_count": 69,
   "metadata": {},
   "outputs": [
    {
     "ename": "NameError",
     "evalue": "name 'path1_arraysize' is not defined",
     "output_type": "error",
     "traceback": [
      "\u001b[0;31m---------------------------------------------------------------------------\u001b[0m",
      "\u001b[0;31mNameError\u001b[0m                                 Traceback (most recent call last)",
      "Cell \u001b[0;32mIn[69], line 4\u001b[0m\n\u001b[1;32m      2\u001b[0m end_effector_xyz \u001b[38;5;241m=\u001b[39m sp\u001b[38;5;241m.\u001b[39mzeros(\u001b[38;5;241m3\u001b[39m,arraysize)\n\u001b[1;32m      3\u001b[0m \u001b[38;5;66;03m#PATH 1\u001b[39;00m\n\u001b[0;32m----> 4\u001b[0m \u001b[38;5;28;01mfor\u001b[39;00m i \u001b[38;5;129;01min\u001b[39;00m \u001b[38;5;28mrange\u001b[39m(\u001b[38;5;241m0\u001b[39m,\u001b[43mpath1_arraysize\u001b[49m):\n\u001b[1;32m      5\u001b[0m     Asubs \u001b[38;5;241m=\u001b[39m A_final\u001b[38;5;241m.\u001b[39msubs([\n\u001b[1;32m      6\u001b[0m         (thetas[\u001b[38;5;241m0\u001b[39m],THETA_path1[\u001b[38;5;241m0\u001b[39m,i]),\n\u001b[1;32m      7\u001b[0m         (thetas[\u001b[38;5;241m1\u001b[39m],THETA_path1[\u001b[38;5;241m1\u001b[39m,i]),\n\u001b[0;32m   (...)\u001b[0m\n\u001b[1;32m     10\u001b[0m         (thetas[\u001b[38;5;241m4\u001b[39m],THETA_path1[\u001b[38;5;241m4\u001b[39m,i]),\n\u001b[1;32m     11\u001b[0m         (thetas[\u001b[38;5;241m5\u001b[39m],THETA_path1[\u001b[38;5;241m5\u001b[39m,i])])\n\u001b[1;32m     12\u001b[0m     end_effector_xyz[\u001b[38;5;241m0\u001b[39m,i] \u001b[38;5;241m=\u001b[39m Asubs[\u001b[38;5;241m0\u001b[39m,\u001b[38;5;241m3\u001b[39m]\n",
      "\u001b[0;31mNameError\u001b[0m: name 'path1_arraysize' is not defined"
     ]
    }
   ],
   "source": [
    "#PLOTTING END EFFECTOR POSITION\n",
    "end_effector_xyz = sp.zeros(3,arraysize)\n",
    "#PATH 1\n",
    "for i in range(0,path1_arraysize):\n",
    "    Asubs = A_final.subs([\n",
    "        (thetas[0],THETA_path1[0,i]),\n",
    "        (thetas[1],THETA_path1[1,i]),\n",
    "        (thetas[2],THETA_path1[2,i]),\n",
    "        (thetas[3],THETA_path1[3,i]),\n",
    "        (thetas[4],THETA_path1[4,i]),\n",
    "        (thetas[5],THETA_path1[5,i])])\n",
    "    end_effector_xyz[0,i] = Asubs[0,3]\n",
    "    end_effector_xyz[1,i] = Asubs[1,3]-45\n",
    "    end_effector_xyz[2,i] = Asubs[2,3]\n",
    "\n",
    "\n",
    "#PLOT END EFFECTOR PATH\n",
    "fig = plt.figure()\n",
    "ax = fig.add_subplot(111, projection='3d')\n",
    "\n",
    "for i in range(0,path1_arraysize):\n",
    "    \n",
    "    ax.scatter([end_effector_xyz[0,i]], [end_effector_xyz[1,i]], [end_effector_xyz[2,i]])\n",
    "\n",
    "\n",
    "# Set labels\n",
    "ax.set_xlabel('X axis')\n",
    "ax.set_ylabel('Y axis')\n",
    "ax.set_zlabel('Z axis')\n",
    "\n",
    "\n",
    "# Show plot\n",
    "plt.show()\n",
    "\n",
    "end_effector_xyz\n"
   ]
  }
 ],
 "metadata": {
  "kernelspec": {
   "display_name": "Python 3",
   "language": "python",
   "name": "python3"
  },
  "language_info": {
   "codemirror_mode": {
    "name": "ipython",
    "version": 3
   },
   "file_extension": ".py",
   "mimetype": "text/x-python",
   "name": "python",
   "nbconvert_exporter": "python",
   "pygments_lexer": "ipython3",
   "version": "3.10.12"
  }
 },
 "nbformat": 4,
 "nbformat_minor": 2
}
