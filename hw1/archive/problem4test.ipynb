{
 "cells": [
  {
   "cell_type": "code",
   "execution_count": 1,
   "id": "ae45c36a-0b1d-4631-a912-f1238a2a5d85",
   "metadata": {},
   "outputs": [],
   "source": [
    "import sympy as sp"
   ]
  },
  {
   "cell_type": "code",
   "execution_count": 2,
   "id": "c9d8cea0-e8a2-4261-aa8a-ccd4659e9e93",
   "metadata": {},
   "outputs": [
    {
     "data": {
      "text/latex": [
       "$\\displaystyle - \\theta_{1} - \\theta_{2}$"
      ],
      "text/plain": [
       "-theta_1 - theta_2"
      ]
     },
     "execution_count": 2,
     "metadata": {},
     "output_type": "execute_result"
    }
   ],
   "source": [
    "l_1 = sp.Symbol('l_1')\n",
    "l_2 = sp.Symbol('l_2')\n",
    "l_3 = sp.Symbol('l_3')\n",
    "theta_1 = sp.Symbol('theta_1')\n",
    "theta_2 = sp.Symbol('theta_2')\n",
    "theta_3 = sp.Symbol('theta_3')\n",
    "theta_1"
   ]
  },
  {
   "cell_type": "code",
   "execution_count": 7,
   "id": "60a894ca-3043-47dc-80b6-991d30d5c838",
   "metadata": {},
   "outputs": [
    {
     "data": {
      "text/latex": [
       "$\\displaystyle 0$"
      ],
      "text/plain": [
       "0"
      ]
     },
     "execution_count": 7,
     "metadata": {},
     "output_type": "execute_result"
    }
   ],
   "source": [
    "x_ee = l_1*sp.cos(theta_1) + l_2*sp.cos(theta_1+theta_2) + l_3*sp.cos(theta_1+theta_2+theta_3)\n",
    "y_ee = l_1*sp.sin(theta_1) + l_2*sp.sin(theta_1+theta_2) + l_3*sp.sin(theta_1+theta_2+theta_3)\n",
    "theta_ee = theta_1+theta_2+theta_3"
   ]
  },
  {
   "cell_type": "code",
   "execution_count": 10,
   "id": "07b611f4-e59d-4d17-a1e8-1a98d713b100",
   "metadata": {},
   "outputs": [
    {
     "data": {
      "text/latex": [
       "$\\displaystyle \\left[\\begin{matrix}l_{1} \\cos{\\left(\\theta_{1} \\right)} + l_{2} \\cos{\\left(\\theta_{1} + \\theta_{2} \\right)} + l_{3}\\\\l_{1} \\sin{\\left(\\theta_{1} \\right)} + l_{2} \\sin{\\left(\\theta_{1} + \\theta_{2} \\right)}\\\\0\\end{matrix}\\right]$"
      ],
      "text/plain": [
       "Matrix([\n",
       "[l_1*cos(theta_1) + l_2*cos(theta_1 + theta_2) + l_3],\n",
       "[      l_1*sin(theta_1) + l_2*sin(theta_1 + theta_2)],\n",
       "[                                                  0]])"
      ]
     },
     "execution_count": 10,
     "metadata": {},
     "output_type": "execute_result"
    }
   ],
   "source": [
    "ee_position = sp.Matrix([x_ee, y_ee, theta_ee])\n",
    "theta_vector = sp.Matrix([theta_1, theta_2, theta_3])\n",
    "ee_position\n",
    "#J = ee_position.jacobian(theta_vector)\n",
    "#J"
   ]
  },
  {
   "cell_type": "code",
   "execution_count": null,
   "id": "5e9ff814-0c02-4e50-80c7-567543e6385e",
   "metadata": {},
   "outputs": [],
   "source": []
  }
 ],
 "metadata": {
  "kernelspec": {
   "display_name": "Python 3 (ipykernel)",
   "language": "python",
   "name": "python3"
  },
  "language_info": {
   "codemirror_mode": {
    "name": "ipython",
    "version": 3
   },
   "file_extension": ".py",
   "mimetype": "text/x-python",
   "name": "python",
   "nbconvert_exporter": "python",
   "pygments_lexer": "ipython3",
   "version": "3.10.12"
  }
 },
 "nbformat": 4,
 "nbformat_minor": 5
}
